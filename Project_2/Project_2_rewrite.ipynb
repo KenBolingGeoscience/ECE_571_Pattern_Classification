{
 "cells": [
  {
   "cell_type": "markdown",
   "metadata": {},
   "source": [
    "Task 1: (Preprocessing) Loading in the datasets."
   ]
  },
  {
   "cell_type": "code",
   "execution_count": 194,
   "metadata": {
    "collapsed": false
   },
   "outputs": [
    {
     "data": {
      "text/html": [
       "<div>\n",
       "<style scoped>\n",
       "    .dataframe tbody tr th:only-of-type {\n",
       "        vertical-align: middle;\n",
       "    }\n",
       "\n",
       "    .dataframe tbody tr th {\n",
       "        vertical-align: top;\n",
       "    }\n",
       "\n",
       "    .dataframe thead th {\n",
       "        text-align: right;\n",
       "    }\n",
       "</style>\n",
       "<table border=\"1\" class=\"dataframe\">\n",
       "  <thead>\n",
       "    <tr style=\"text-align: right;\">\n",
       "      <th></th>\n",
       "      <th>npreg</th>\n",
       "      <th>glu</th>\n",
       "      <th>bp</th>\n",
       "      <th>skin</th>\n",
       "      <th>bmi</th>\n",
       "      <th>ped</th>\n",
       "      <th>age</th>\n",
       "      <th>type</th>\n",
       "    </tr>\n",
       "  </thead>\n",
       "  <tbody>\n",
       "    <tr>\n",
       "      <th>0</th>\n",
       "      <td>5</td>\n",
       "      <td>86</td>\n",
       "      <td>68</td>\n",
       "      <td>28</td>\n",
       "      <td>30.2</td>\n",
       "      <td>0.364</td>\n",
       "      <td>24</td>\n",
       "      <td>No</td>\n",
       "    </tr>\n",
       "    <tr>\n",
       "      <th>1</th>\n",
       "      <td>7</td>\n",
       "      <td>195</td>\n",
       "      <td>70</td>\n",
       "      <td>33</td>\n",
       "      <td>25.1</td>\n",
       "      <td>0.163</td>\n",
       "      <td>55</td>\n",
       "      <td>Yes</td>\n",
       "    </tr>\n",
       "    <tr>\n",
       "      <th>2</th>\n",
       "      <td>5</td>\n",
       "      <td>77</td>\n",
       "      <td>82</td>\n",
       "      <td>41</td>\n",
       "      <td>35.8</td>\n",
       "      <td>0.156</td>\n",
       "      <td>35</td>\n",
       "      <td>No</td>\n",
       "    </tr>\n",
       "    <tr>\n",
       "      <th>3</th>\n",
       "      <td>0</td>\n",
       "      <td>165</td>\n",
       "      <td>76</td>\n",
       "      <td>43</td>\n",
       "      <td>47.9</td>\n",
       "      <td>0.259</td>\n",
       "      <td>26</td>\n",
       "      <td>No</td>\n",
       "    </tr>\n",
       "    <tr>\n",
       "      <th>4</th>\n",
       "      <td>0</td>\n",
       "      <td>107</td>\n",
       "      <td>60</td>\n",
       "      <td>25</td>\n",
       "      <td>26.4</td>\n",
       "      <td>0.133</td>\n",
       "      <td>23</td>\n",
       "      <td>No</td>\n",
       "    </tr>\n",
       "  </tbody>\n",
       "</table>\n",
       "</div>"
      ],
      "text/plain": [
       "<div>\n",
       "<style scoped>\n",
       "    .dataframe tbody tr th:only-of-type {\n",
       "        vertical-align: middle;\n",
       "    }\n",
       "\n",
       "    .dataframe tbody tr th {\n",
       "        vertical-align: top;\n",
       "    }\n",
       "\n",
       "    .dataframe thead th {\n",
       "        text-align: right;\n",
       "    }\n",
       "</style>\n",
       "<table border=\"1\" class=\"dataframe\">\n",
       "  <thead>\n",
       "    <tr style=\"text-align: right;\">\n",
       "      <th></th>\n",
       "      <th>npreg</th>\n",
       "      <th>glu</th>\n",
       "      <th>bp</th>\n",
       "      <th>skin</th>\n",
       "      <th>bmi</th>\n",
       "      <th>ped</th>\n",
       "      <th>age</th>\n",
       "      <th>type</th>\n",
       "    </tr>\n",
       "  </thead>\n",
       "  <tbody>\n",
       "    <tr>\n",
       "      <th>0</th>\n",
       "      <td>5</td>\n",
       "      <td>86</td>\n",
       "      <td>68</td>\n",
       "      <td>28</td>\n",
       "      <td>30.2</td>\n",
       "      <td>0.364</td>\n",
       "      <td>24</td>\n",
       "      <td>No</td>\n",
       "    </tr>\n",
       "    <tr>\n",
       "      <th>1</th>\n",
       "      <td>7</td>\n",
       "      <td>195</td>\n",
       "      <td>70</td>\n",
       "      <td>33</td>\n",
       "      <td>25.1</td>\n",
       "      <td>0.163</td>\n",
       "      <td>55</td>\n",
       "      <td>Yes</td>\n",
       "    </tr>\n",
       "    <tr>\n",
       "      <th>2</th>\n",
       "      <td>5</td>\n",
       "      <td>77</td>\n",
       "      <td>82</td>\n",
       "      <td>41</td>\n",
       "      <td>35.8</td>\n",
       "      <td>0.156</td>\n",
       "      <td>35</td>\n",
       "      <td>No</td>\n",
       "    </tr>\n",
       "    <tr>\n",
       "      <th>3</th>\n",
       "      <td>0</td>\n",
       "      <td>165</td>\n",
       "      <td>76</td>\n",
       "      <td>43</td>\n",
       "      <td>47.9</td>\n",
       "      <td>0.259</td>\n",
       "      <td>26</td>\n",
       "      <td>No</td>\n",
       "    </tr>\n",
       "    <tr>\n",
       "      <th>4</th>\n",
       "      <td>0</td>\n",
       "      <td>107</td>\n",
       "      <td>60</td>\n",
       "      <td>25</td>\n",
       "      <td>26.4</td>\n",
       "      <td>0.133</td>\n",
       "      <td>23</td>\n",
       "      <td>No</td>\n",
       "    </tr>\n",
       "  </tbody>\n",
       "</table>\n",
       "</div>"
      ]
     },
     "execution_count": 0,
     "metadata": {},
     "output_type": "execute_result"
    },
    {
     "name": "stdout",
     "output_type": "stream",
     "text": [
      "<class 'pandas.core.frame.DataFrame'>\nRangeIndex: 200 entries, 0 to 199\nData columns (total 8 columns):\nnpreg    200 non-null int64\nglu      200 non-null int64\nbp       200 non-null int64\nskin     200 non-null int64\nbmi      200 non-null float64\nped      200 non-null float64\nage      200 non-null int64\ntype     200 non-null object\ndtypes: float64(2), int64(5), object(1)\nmemory usage: 12.6+ KB\n"
     ]
    },
    {
     "data": {
      "text/plain": [
       "None"
      ]
     },
     "execution_count": 0,
     "metadata": {},
     "output_type": "execute_result"
    }
   ],
   "source": [
    "# ECE471/571 project 2\n",
    "# Ken Boling\n",
    "# Python 3.6.2\n",
    "# Pycharm Development Environment\n",
    "# Juypter Notebook\n",
    "\n",
    "\n",
    "# resets all variables within the Jupyter notebook so things don't get weird if I run this again \n",
    "%reset -f\n",
    "\n",
    "\n",
    "# Data management tools:\n",
    "import pandas as pd\n",
    "import numpy as np\n",
    "\n",
    "# Plotting tools:\n",
    "from matplotlib import pyplot as plt\n",
    "from mpl_toolkits.mplot3d import Axes3D\n",
    "import seaborn as sns\n",
    "\n",
    "# other tools:\n",
    "import os\n",
    "import time\n",
    "\n",
    "# Juypter Notebook tools:\n",
    "from IPython.core.interactiveshell import InteractiveShell\n",
    "from IPython.display import display\n",
    "#InteractiveShell.ast_node_interactivity = \"all\"\n",
    "\n",
    "# Select output directroy for figures etc.\n",
    "outputdir = 'C:\\\\Users\\\\Ken\\\\Google Drive\\\\UTK Class work\\\\Pattern Classification\\\\project 2'\n",
    "\n",
    "# Loading data from files into Pandas dataframes\n",
    "pimatr_X = pd.read_csv('C:\\\\Users\\\\Ken\\\\Google Drive\\\\UTK Class work\\\\Pattern Classification\\\\Project 2\\\\pima.tr', delim_whitespace=True)\n",
    "pimate_X = pd.read_csv('C:\\\\Users\\\\Ken\\\\Google Drive\\\\UTK Class work\\\\Pattern Classification\\\\Project 2\\\\pima.te', delim_whitespace=True)\n",
    "\n",
    "# Checking the loaded data:\n",
    "\n",
    "display(pimatr_X.head())\n",
    "display(pimatr_X.info())"
   ]
  },
  {
   "cell_type": "markdown",
   "metadata": {},
   "source": [
    "Each sample in the data set has 7 dimensions. The classification result is 'no': (no diabetes) or 'yes' (diabetes)\n",
    "Before you can use the dataset, you need to do some preprocessing\n",
    "\tChange 'yes' and 'no' to 1 and 0 indicating 'with disease' and 'without disease'.\n",
    "\tDelete the first row in the data set\n",
    "Because of the properties of a Pandas Dataframe this step isn't needed, so I will keep the column names to use as identifiers, and rename the 'type' column to something that makes more sense to me:\n",
    "\n",
    "(note from future Ken: this ended up making things more complicated in terms of having to deal with a string feature, I should have just listened...)"
   ]
  },
  {
   "cell_type": "code",
   "execution_count": 195,
   "metadata": {},
   "outputs": [],
   "source": [
    "pimatr_X.rename(columns = {'type': 'diabetes'}, inplace=True)\n",
    "pimate_X.rename(columns = {'type': 'diabetes'}, inplace=True)"
   ]
  },
  {
   "cell_type": "markdown",
   "metadata": {},
   "source": [
    "\"Normalize the data set to make the features comparable (or with the same scale).Suppose x is a sample vector, m_i is the mean of each feature i, sigma_i is the standard deviation of each feature i, then normalization is conducted by (x-m_i)/sigma_i. Keep in mind that you also need to normalize the samples in the test set. For each sample in the test set, use the same m_i and sigma_i you derived from the training set.\"\n",
    "\n",
    "Create a function to normalize the data using the values for mu and sigma calculated from the training set\n",
    "\n",
    "First I want to calculate the values of mu and sigma for each feature in the training data set and calculate the covarience matrix for the normalized data:"
   ]
  },
  {
   "cell_type": "code",
   "execution_count": 196,
   "metadata": {},
   "outputs": [
    {
     "name": "stdout",
     "output_type": "stream",
     "text": [
      "Mui (Mean before normalization)\nnpreg      3.570000\nglu      123.970000\nbp        71.260000\nskin      29.215000\nbmi       32.310000\nped        0.460765\nage       32.110000\ndtype: float64\n(7,)\n\n\nSigmai (Standard Deviation before normalization)\nnpreg     3.357842\nglu      31.587958\nbp       11.450869\nskin     11.695246\nbmi       6.114867\nped       0.306456\nage      10.947963\ndtype: float64\n(7,)\n"
     ]
    }
   ],
   "source": [
    "# Normalization function\n",
    "def normalize(dfX, mui, sigmai):\n",
    "    dfnum = dfX.select_dtypes(include=np.number)\n",
    "    dfobj = dfX.select_dtypes(include=object)\n",
    "    dfnorm = (dfnum - mui)/sigmai\n",
    "        \n",
    "    dfout = pd.concat([dfnorm,dfobj],axis=1)\n",
    "    \n",
    "    return dfout\n",
    "\n",
    "# Calculate Mu and Sigma\n",
    "mui = np.mean(pimatr_X, axis=0)\n",
    "sigmai = np.std(pimatr_X,axis=0)\n",
    "\n",
    "print ('Mui (Mean before normalization)', mui, mui.shape, \"\\n\", \n",
    "       'Sigmai (Standard Deviation before normalization)', \n",
    "       sigmai,sigmai.shape,sep=\"\\n\")\n",
    "\n"
   ]
  },
  {
   "cell_type": "code",
   "execution_count": 197,
   "metadata": {},
   "outputs": [
    {
     "name": "stdout",
     "output_type": "stream",
     "text": [
      "Mui (Mean after normalization)\nnpreg    2.664535e-17\nglu      3.552714e-17\nbp      -4.263256e-16\nskin     3.552714e-17\nbmi     -3.907985e-16\nped     -1.298961e-16\nage      7.105427e-17\ndtype: float64\n(7,)\n\n\nSigmai (Standard Deviation after normalization)\nnpreg    1.0\nglu      1.0\nbp       1.0\nskin     1.0\nbmi      1.0\nped      1.0\nage      1.0\ndtype: float64\n(7,)\n"
     ]
    }
   ],
   "source": [
    "\n",
    "# run the normalization on each dataset:    \n",
    "pimatr_nX = normalize(pimatr_X, mui, sigmai)\n",
    "pimate_nX = normalize(pimate_X, mui, sigmai)\n",
    "\n",
    "\n",
    "mui_tr = np.mean(pimatr_nX, axis=0)\n",
    "sigmai_tr = np.std(pimatr_nX,axis=0)\n",
    "\n",
    "print ('Mui (Mean after normalization)', mui_tr, mui.shape, \"\\n\", 'Sigmai (Standard Deviation after normalization)', sigmai_tr,sigmai.shape,sep=\"\\n\")\n",
    "\n",
    "#display(pimatr_nX.head())\n"
   ]
  },
  {
   "cell_type": "markdown",
   "metadata": {},
   "source": [
    "Just to further check that the normalization is working I will plot two features and see what they look like before and after."
   ]
  },
  {
   "cell_type": "code",
   "execution_count": 198,
   "metadata": {},
   "outputs": [
    {
     "data": {
      "image/png": "[encoded data removed]",
      "text/plain": [
       "<Figure size 432x288 with 1 Axes>"
      ]
     },
     "metadata": {},
     "output_type": "display_data"
    },
    {
     "data": {
      "image/png": "[encoded data removed]",
      "text/plain": [
       "<Figure size 432x288 with 1 Axes>"
      ]
     },
     "metadata": {},
     "output_type": "display_data"
    }
   ],
   "source": [
    "\n",
    "fig1, ax = plt.subplots()\n",
    "colordef = ['red' if i == 'Yes' else 'green' for i in pimatr_nX['diabetes']]\n",
    "ax.scatter(x=pimatr_nX['glu'], y=pimatr_nX['ped'], c=colordef, label=pimatr_nX['diabetes'])\n",
    "ax.set_title('normalized data')\n",
    "\n",
    "plt.show()\n",
    "\n",
    "fig2, ax = plt.subplots()\n",
    "ax.scatter(x=pimatr_X['glu'], y=pimatr_X['ped'], c=colordef, label=pimatr_X['diabetes'])\n",
    "ax.set_title('non-normalized data')\n",
    "\n",
    "plt.show()\n"
   ]
  },
  {
   "cell_type": "markdown",
   "metadata": {},
   "source": [
    "Looks good!  The normalization shifted the mean to zero (not exactly zero but very close, probablty because of floating point rounding issues) \n",
    " \n",
    "Now to calculate the covarience matrix:"
   ]
  },
  {
   "cell_type": "code",
   "execution_count": 199,
   "metadata": {},
   "outputs": [],
   "source": [
    "# function to calculate the covariance matrix from a data set\n",
    "def covmat(matrix):\n",
    "\n",
    "    d = matrix.ndim # gets the number of dimensions in the matrix\n",
    "    Ei = np.zeros([d , d]) # Creates an array of 0s that is d by d\n",
    "    n = np.shape(matrix)[0] #numberr of rows in the matrix\n",
    "\n",
    "    summ = (np.sum(matrix, axis = 0)) #sum of each column of the matrix\n",
    "    muv = np.array([[(1/n)* summ[0]],[(1/n)* summ[1]]]) #calculates Mu vector\n",
    "\n",
    "    for irow in matrix: # for loops iterate through the rows of an numpy array by default\n",
    "        xrow = irow.reshape(-1,1) #converts the row vector to a column vector\n",
    "        isum = np.outer([(xrow - muv)] , [(np.transpose(xrow) - np.transpose(muv))]) # calculate (x - mu)(x - mu)T for that row\n",
    "        Ei = Ei + isum # adds the matrices to the total\n",
    "\n",
    "    covmatrix = ((1 / (n-1)) * Ei )\n",
    "\n",
    "    return covmatrix\n",
    "\n",
    "def covnum(df):\n",
    "        #num_cols = df.columns[df.dtypes.apply(lambda c: np.issubdtype(c, np.number))]\n",
    "        #dfcol_select = df[num_cols]\n",
    "        dfnum = df.select_dtypes(include=np.number)\n",
    "        #cov = np.cov(dfnum,rowvar=False)\n",
    "        cov = np.cov(dfnum,rowvar=False)\n",
    "\n",
    "        return pd.DataFrame(cov)\n"
   ]
  },
  {
   "cell_type": "code",
   "execution_count": 200,
   "metadata": {},
   "outputs": [
    {
     "name": "stdout",
     "output_type": "stream",
     "text": [
      "Covariance Matrix for normalized data:\n"
     ]
    },
    {
     "data": {
      "text/html": [
       "<div>\n",
       "<style scoped>\n",
       "    .dataframe tbody tr th:only-of-type {\n",
       "        vertical-align: middle;\n",
       "    }\n",
       "\n",
       "    .dataframe tbody tr th {\n",
       "        vertical-align: top;\n",
       "    }\n",
       "\n",
       "    .dataframe thead th {\n",
       "        text-align: right;\n",
       "    }\n",
       "</style>\n",
       "<table border=\"1\" class=\"dataframe\">\n",
       "  <thead>\n",
       "    <tr style=\"text-align: right;\">\n",
       "      <th></th>\n",
       "      <th>0</th>\n",
       "      <th>1</th>\n",
       "      <th>2</th>\n",
       "      <th>3</th>\n",
       "      <th>4</th>\n",
       "      <th>5</th>\n",
       "      <th>6</th>\n",
       "    </tr>\n",
       "  </thead>\n",
       "  <tbody>\n",
       "    <tr>\n",
       "      <th>0</th>\n",
       "      <td>1.005025</td>\n",
       "      <td>0.171382</td>\n",
       "      <td>0.253328</td>\n",
       "      <td>0.109597</td>\n",
       "      <td>0.058629</td>\n",
       "      <td>-0.120073</td>\n",
       "      <td>0.601932</td>\n",
       "    </tr>\n",
       "    <tr>\n",
       "      <th>1</th>\n",
       "      <td>0.171382</td>\n",
       "      <td>1.005025</td>\n",
       "      <td>0.270735</td>\n",
       "      <td>0.218690</td>\n",
       "      <td>0.217879</td>\n",
       "      <td>0.061015</td>\n",
       "      <td>0.345133</td>\n",
       "    </tr>\n",
       "    <tr>\n",
       "      <th>2</th>\n",
       "      <td>0.253328</td>\n",
       "      <td>0.270735</td>\n",
       "      <td>1.005025</td>\n",
       "      <td>0.266295</td>\n",
       "      <td>0.240021</td>\n",
       "      <td>-0.047638</td>\n",
       "      <td>0.393039</td>\n",
       "    </tr>\n",
       "    <tr>\n",
       "      <th>3</th>\n",
       "      <td>0.109597</td>\n",
       "      <td>0.218690</td>\n",
       "      <td>0.266295</td>\n",
       "      <td>1.005025</td>\n",
       "      <td>0.662347</td>\n",
       "      <td>0.095882</td>\n",
       "      <td>0.253192</td>\n",
       "    </tr>\n",
       "    <tr>\n",
       "      <th>4</th>\n",
       "      <td>0.058629</td>\n",
       "      <td>0.217879</td>\n",
       "      <td>0.240021</td>\n",
       "      <td>0.662347</td>\n",
       "      <td>1.005025</td>\n",
       "      <td>0.191508</td>\n",
       "      <td>0.132582</td>\n",
       "    </tr>\n",
       "    <tr>\n",
       "      <th>5</th>\n",
       "      <td>-0.120073</td>\n",
       "      <td>0.061015</td>\n",
       "      <td>-0.047638</td>\n",
       "      <td>0.095882</td>\n",
       "      <td>0.191508</td>\n",
       "      <td>1.005025</td>\n",
       "      <td>-0.071768</td>\n",
       "    </tr>\n",
       "    <tr>\n",
       "      <th>6</th>\n",
       "      <td>0.601932</td>\n",
       "      <td>0.345133</td>\n",
       "      <td>0.393039</td>\n",
       "      <td>0.253192</td>\n",
       "      <td>0.132582</td>\n",
       "      <td>-0.071768</td>\n",
       "      <td>1.005025</td>\n",
       "    </tr>\n",
       "  </tbody>\n",
       "</table>\n",
       "</div>"
      ],
      "text/plain": [
       "<div>\n",
       "<style scoped>\n",
       "    .dataframe tbody tr th:only-of-type {\n",
       "        vertical-align: middle;\n",
       "    }\n",
       "\n",
       "    .dataframe tbody tr th {\n",
       "        vertical-align: top;\n",
       "    }\n",
       "\n",
       "    .dataframe thead th {\n",
       "        text-align: right;\n",
       "    }\n",
       "</style>\n",
       "<table border=\"1\" class=\"dataframe\">\n",
       "  <thead>\n",
       "    <tr style=\"text-align: right;\">\n",
       "      <th></th>\n",
       "      <th>0</th>\n",
       "      <th>1</th>\n",
       "      <th>2</th>\n",
       "      <th>3</th>\n",
       "      <th>4</th>\n",
       "      <th>5</th>\n",
       "      <th>6</th>\n",
       "    </tr>\n",
       "  </thead>\n",
       "  <tbody>\n",
       "    <tr>\n",
       "      <th>0</th>\n",
       "      <td>1.005025</td>\n",
       "      <td>0.171382</td>\n",
       "      <td>0.253328</td>\n",
       "      <td>0.109597</td>\n",
       "      <td>0.058629</td>\n",
       "      <td>-0.120073</td>\n",
       "      <td>0.601932</td>\n",
       "    </tr>\n",
       "    <tr>\n",
       "      <th>1</th>\n",
       "      <td>0.171382</td>\n",
       "      <td>1.005025</td>\n",
       "      <td>0.270735</td>\n",
       "      <td>0.218690</td>\n",
       "      <td>0.217879</td>\n",
       "      <td>0.061015</td>\n",
       "      <td>0.345133</td>\n",
       "    </tr>\n",
       "    <tr>\n",
       "      <th>2</th>\n",
       "      <td>0.253328</td>\n",
       "      <td>0.270735</td>\n",
       "      <td>1.005025</td>\n",
       "      <td>0.266295</td>\n",
       "      <td>0.240021</td>\n",
       "      <td>-0.047638</td>\n",
       "      <td>0.393039</td>\n",
       "    </tr>\n",
       "    <tr>\n",
       "      <th>3</th>\n",
       "      <td>0.109597</td>\n",
       "      <td>0.218690</td>\n",
       "      <td>0.266295</td>\n",
       "      <td>1.005025</td>\n",
       "      <td>0.662347</td>\n",
       "      <td>0.095882</td>\n",
       "      <td>0.253192</td>\n",
       "    </tr>\n",
       "    <tr>\n",
       "      <th>4</th>\n",
       "      <td>0.058629</td>\n",
       "      <td>0.217879</td>\n",
       "      <td>0.240021</td>\n",
       "      <td>0.662347</td>\n",
       "      <td>1.005025</td>\n",
       "      <td>0.191508</td>\n",
       "      <td>0.132582</td>\n",
       "    </tr>\n",
       "    <tr>\n",
       "      <th>5</th>\n",
       "      <td>-0.120073</td>\n",
       "      <td>0.061015</td>\n",
       "      <td>-0.047638</td>\n",
       "      <td>0.095882</td>\n",
       "      <td>0.191508</td>\n",
       "      <td>1.005025</td>\n",
       "      <td>-0.071768</td>\n",
       "    </tr>\n",
       "    <tr>\n",
       "      <th>6</th>\n",
       "      <td>0.601932</td>\n",
       "      <td>0.345133</td>\n",
       "      <td>0.393039</td>\n",
       "      <td>0.253192</td>\n",
       "      <td>0.132582</td>\n",
       "      <td>-0.071768</td>\n",
       "      <td>1.005025</td>\n",
       "    </tr>\n",
       "  </tbody>\n",
       "</table>\n",
       "</div>"
      ]
     },
     "execution_count": 200,
     "metadata": {},
     "output_type": "execute_result"
    }
   ],
   "source": [
    "pimatr_nX_cov= covnum(pimatr_nX)\n",
    "#pimatr_nX_cov1= covmat(pimatr_nX)\n",
    "\n",
    "print('Covariance Matrix for normalized data:')\n",
    "pd.DataFrame(pimatr_nX_cov)\n",
    "\n",
    "#pimatr_nX_cov.to_csv('pimatr_nX_cov.csv')\n",
    "#pd.DataFrame(pimatr_nX_cov1)\n"
   ]
  },
  {
   "cell_type": "markdown",
   "metadata": {},
   "source": [
    "Now I will calculate the Eiganvalues and Eiganvectors for the covarience matrix, and put them into a data structure that can be used more easily: "
   ]
  },
  {
   "cell_type": "code",
   "execution_count": 201,
   "metadata": {},
   "outputs": [],
   "source": [
    "\n",
    "\n",
    "eigvals_nX, eigvecs_nX = np.linalg.eig(pimatr_nX_cov)\n",
    "\n",
    "# display the data\n",
    "pd.DataFrame(eigvals_nX)\n",
    "pd.DataFrame(eigvecs_nX)\n",
    "\n",
    "\n",
    "eig_pairs_nX = [(np.abs(eigvals_nX[i]), eigvecs_nX[:, i]) for i in range(len(eigvals_nX))]\n",
    "\n",
    "pd.DataFrame(eig_pairs_nX)\n",
    "\n",
    "df_eig = pd.DataFrame(eig_pairs_nX)\n",
    "\n",
    "df_eig.to_csv('pca_eig.csv')\n"
   ]
  },
  {
   "cell_type": "markdown",
   "metadata": {},
   "source": [
    "Now we will sort the Eiganvalues and Eiganvectors that will become the pricipal components and determine the percentage of total varience explained by each.  We will use this to determine the components that can be excluded to reduce the dimentionality of the data.  "
   ]
  },
  {
   "cell_type": "code",
   "execution_count": 203,
   "metadata": {
    "collapsed": false
   },
   "outputs": [
    {
     "data": {
      "image/png": "[encoded data removed]",
      "text/plain": [
       "<Figure size 720x432 with 1 Axes>"
      ]
     },
     "metadata": {},
     "output_type": "display_data"
    },
    {
     "data": {
      "text/html": [
       "<div>\n",
       "<style scoped>\n",
       "    .dataframe tbody tr th:only-of-type {\n",
       "        vertical-align: middle;\n",
       "    }\n",
       "\n",
       "    .dataframe tbody tr th {\n",
       "        vertical-align: top;\n",
       "    }\n",
       "\n",
       "    .dataframe thead th {\n",
       "        text-align: right;\n",
       "    }\n",
       "</style>\n",
       "<table border=\"1\" class=\"dataframe\">\n",
       "  <thead>\n",
       "    <tr style=\"text-align: right;\">\n",
       "      <th></th>\n",
       "      <th>0</th>\n",
       "    </tr>\n",
       "  </thead>\n",
       "  <tbody>\n",
       "    <tr>\n",
       "      <th>0</th>\n",
       "      <td>0.344180</td>\n",
       "    </tr>\n",
       "    <tr>\n",
       "      <th>1</th>\n",
       "      <td>0.557958</td>\n",
       "    </tr>\n",
       "    <tr>\n",
       "      <th>2</th>\n",
       "      <td>0.688225</td>\n",
       "    </tr>\n",
       "    <tr>\n",
       "      <th>3</th>\n",
       "      <td>0.802507</td>\n",
       "    </tr>\n",
       "    <tr>\n",
       "      <th>4</th>\n",
       "      <td>0.901098</td>\n",
       "    </tr>\n",
       "    <tr>\n",
       "      <th>5</th>\n",
       "      <td>0.956786</td>\n",
       "    </tr>\n",
       "    <tr>\n",
       "      <th>6</th>\n",
       "      <td>1.000000</td>\n",
       "    </tr>\n",
       "  </tbody>\n",
       "</table>\n",
       "</div>"
      ],
      "text/plain": [
       "<div>\n",
       "<style scoped>\n",
       "    .dataframe tbody tr th:only-of-type {\n",
       "        vertical-align: middle;\n",
       "    }\n",
       "\n",
       "    .dataframe tbody tr th {\n",
       "        vertical-align: top;\n",
       "    }\n",
       "\n",
       "    .dataframe thead th {\n",
       "        text-align: right;\n",
       "    }\n",
       "</style>\n",
       "<table border=\"1\" class=\"dataframe\">\n",
       "  <thead>\n",
       "    <tr style=\"text-align: right;\">\n",
       "      <th></th>\n",
       "      <th>0</th>\n",
       "    </tr>\n",
       "  </thead>\n",
       "  <tbody>\n",
       "    <tr>\n",
       "      <th>0</th>\n",
       "      <td>0.344180</td>\n",
       "    </tr>\n",
       "    <tr>\n",
       "      <th>1</th>\n",
       "      <td>0.557958</td>\n",
       "    </tr>\n",
       "    <tr>\n",
       "      <th>2</th>\n",
       "      <td>0.688225</td>\n",
       "    </tr>\n",
       "    <tr>\n",
       "      <th>3</th>\n",
       "      <td>0.802507</td>\n",
       "    </tr>\n",
       "    <tr>\n",
       "      <th>4</th>\n",
       "      <td>0.901098</td>\n",
       "    </tr>\n",
       "    <tr>\n",
       "      <th>5</th>\n",
       "      <td>0.956786</td>\n",
       "    </tr>\n",
       "    <tr>\n",
       "      <th>6</th>\n",
       "      <td>1.000000</td>\n",
       "    </tr>\n",
       "  </tbody>\n",
       "</table>\n",
       "</div>"
      ]
     },
     "execution_count": 203,
     "metadata": {},
     "output_type": "execute_result"
    }
   ],
   "source": [
    "# sort the Eiganvalues and corresponing Eiganvectors:\n",
    "eig_pairs_nX.sort(key=lambda x: x[0], reverse=True)\n",
    "\n",
    "eig_pairs_X = pd.DataFrame(eig_pairs_nX)\n",
    "\n",
    "PCnum = np.array([[1],[2],[3],[4],[5],[6],[7]])\n",
    "\n",
    "var_exp = [(i / (sum(eigvals_nX))) for i in sorted(eigvals_nX, reverse=True)]\n",
    "cum_var_exp = np.cumsum(var_exp)\n",
    "\n",
    "\n",
    "\n",
    "fig3, ax = plt.subplots(figsize=[10,6])\n",
    "\n",
    "plt.plot(PCnum, cum_var_exp)\n",
    "ax.set_title('Explained Varience')\n",
    "ax.set_xlabel('Principal Components' )\n",
    "ax.set_ylabel('Cumulative Explained Varience' )\n",
    "plt.savefig((os.path.join(outputdir, 'Project 2 explained varience  plot') + '.png'), dpi=600)\n",
    "plt.show()\n",
    "\n",
    "pd.DataFrame(cum_var_exp)"
   ]
  },
  {
   "cell_type": "code",
   "execution_count": 210,
   "metadata": {
    "collapsed": false
   },
   "outputs": [
    {
     "data": {
      "text/html": [
       "<div>\n",
       "<style scoped>\n",
       "    .dataframe tbody tr th:only-of-type {\n",
       "        vertical-align: middle;\n",
       "    }\n",
       "\n",
       "    .dataframe tbody tr th {\n",
       "        vertical-align: top;\n",
       "    }\n",
       "\n",
       "    .dataframe thead th {\n",
       "        text-align: right;\n",
       "    }\n",
       "</style>\n",
       "<table border=\"1\" class=\"dataframe\">\n",
       "  <thead>\n",
       "    <tr style=\"text-align: right;\">\n",
       "      <th></th>\n",
       "      <th>0</th>\n",
       "      <th>1</th>\n",
       "      <th>2</th>\n",
       "      <th>3</th>\n",
       "      <th>4</th>\n",
       "    </tr>\n",
       "  </thead>\n",
       "  <tbody>\n",
       "    <tr>\n",
       "      <th>0</th>\n",
       "      <td>0.365493</td>\n",
       "      <td>0.462526</td>\n",
       "      <td>-0.085599</td>\n",
       "      <td>0.500593</td>\n",
       "      <td>0.132269</td>\n",
       "    </tr>\n",
       "    <tr>\n",
       "      <th>1</th>\n",
       "      <td>0.366002</td>\n",
       "      <td>0.012743</td>\n",
       "      <td>-0.418270</td>\n",
       "      <td>-0.680105</td>\n",
       "      <td>0.444888</td>\n",
       "    </tr>\n",
       "    <tr>\n",
       "      <th>2</th>\n",
       "      <td>0.412573</td>\n",
       "      <td>0.108116</td>\n",
       "      <td>0.089982</td>\n",
       "      <td>-0.334982</td>\n",
       "      <td>-0.823943</td>\n",
       "    </tr>\n",
       "    <tr>\n",
       "      <th>3</th>\n",
       "      <td>0.431537</td>\n",
       "      <td>-0.414656</td>\n",
       "      <td>0.336837</td>\n",
       "      <td>0.133054</td>\n",
       "      <td>0.154327</td>\n",
       "    </tr>\n",
       "    <tr>\n",
       "      <th>4</th>\n",
       "      <td>0.391213</td>\n",
       "      <td>-0.512878</td>\n",
       "      <td>0.241103</td>\n",
       "      <td>0.113808</td>\n",
       "      <td>0.103888</td>\n",
       "    </tr>\n",
       "    <tr>\n",
       "      <th>5</th>\n",
       "      <td>0.029135</td>\n",
       "      <td>-0.449834</td>\n",
       "      <td>-0.785018</td>\n",
       "      <td>0.324426</td>\n",
       "      <td>-0.259385</td>\n",
       "    </tr>\n",
       "    <tr>\n",
       "      <th>6</th>\n",
       "      <td>0.471296</td>\n",
       "      <td>0.369980</td>\n",
       "      <td>-0.147593</td>\n",
       "      <td>0.196835</td>\n",
       "      <td>0.061703</td>\n",
       "    </tr>\n",
       "  </tbody>\n",
       "</table>\n",
       "</div>"
      ],
      "text/plain": [
       "<div>\n",
       "<style scoped>\n",
       "    .dataframe tbody tr th:only-of-type {\n",
       "        vertical-align: middle;\n",
       "    }\n",
       "\n",
       "    .dataframe tbody tr th {\n",
       "        vertical-align: top;\n",
       "    }\n",
       "\n",
       "    .dataframe thead th {\n",
       "        text-align: right;\n",
       "    }\n",
       "</style>\n",
       "<table border=\"1\" class=\"dataframe\">\n",
       "  <thead>\n",
       "    <tr style=\"text-align: right;\">\n",
       "      <th></th>\n",
       "      <th>0</th>\n",
       "      <th>1</th>\n",
       "      <th>2</th>\n",
       "      <th>3</th>\n",
       "      <th>4</th>\n",
       "    </tr>\n",
       "  </thead>\n",
       "  <tbody>\n",
       "    <tr>\n",
       "      <th>0</th>\n",
       "      <td>0.365493</td>\n",
       "      <td>0.462526</td>\n",
       "      <td>-0.085599</td>\n",
       "      <td>0.500593</td>\n",
       "      <td>0.132269</td>\n",
       "    </tr>\n",
       "    <tr>\n",
       "      <th>1</th>\n",
       "      <td>0.366002</td>\n",
       "      <td>0.012743</td>\n",
       "      <td>-0.418270</td>\n",
       "      <td>-0.680105</td>\n",
       "      <td>0.444888</td>\n",
       "    </tr>\n",
       "    <tr>\n",
       "      <th>2</th>\n",
       "      <td>0.412573</td>\n",
       "      <td>0.108116</td>\n",
       "      <td>0.089982</td>\n",
       "      <td>-0.334982</td>\n",
       "      <td>-0.823943</td>\n",
       "    </tr>\n",
       "    <tr>\n",
       "      <th>3</th>\n",
       "      <td>0.431537</td>\n",
       "      <td>-0.414656</td>\n",
       "      <td>0.336837</td>\n",
       "      <td>0.133054</td>\n",
       "      <td>0.154327</td>\n",
       "    </tr>\n",
       "    <tr>\n",
       "      <th>4</th>\n",
       "      <td>0.391213</td>\n",
       "      <td>-0.512878</td>\n",
       "      <td>0.241103</td>\n",
       "      <td>0.113808</td>\n",
       "      <td>0.103888</td>\n",
       "    </tr>\n",
       "    <tr>\n",
       "      <th>5</th>\n",
       "      <td>0.029135</td>\n",
       "      <td>-0.449834</td>\n",
       "      <td>-0.785018</td>\n",
       "      <td>0.324426</td>\n",
       "      <td>-0.259385</td>\n",
       "    </tr>\n",
       "    <tr>\n",
       "      <th>6</th>\n",
       "      <td>0.471296</td>\n",
       "      <td>0.369980</td>\n",
       "      <td>-0.147593</td>\n",
       "      <td>0.196835</td>\n",
       "      <td>0.061703</td>\n",
       "    </tr>\n",
       "  </tbody>\n",
       "</table>\n",
       "</div>"
      ]
     },
     "execution_count": 210,
     "metadata": {},
     "output_type": "execute_result"
    }
   ],
   "source": [
    "matrix_w = np.hstack((eig_pairs_nX[0][1].reshape(7, 1),\n",
    "                      eig_pairs_nX[1][1].reshape(7, 1),\n",
    "                      eig_pairs_nX[2][1].reshape(7, 1),\n",
    "                      eig_pairs_nX[3][1].reshape(7, 1),\n",
    "                      eig_pairs_nX[4][1].reshape(7, 1)\n",
    "                      ))\n",
    "pd.DataFrame(matrix_w)\n"
   ]
  },
  {
   "cell_type": "code",
   "execution_count": 211,
   "metadata": {},
   "outputs": [
    {
     "name": "stdout",
     "output_type": "stream",
     "text": [
      "   Principal Component 1  Principal Component 2  Principal Component 3  \\\n0              -0.939903               0.238894               0.679724   \n1               1.786419               2.170387              -0.758981   \n2               0.751950               0.113891               1.888647   \n3               1.481443              -2.137107               1.195894   \n4              -1.947877               0.213475               0.835228   \n5               0.991065               0.827095               0.367709   \n6              -1.139267              -0.507577               0.998158   \n7              -1.474267              -0.079899              -2.037172   \n8               1.247997               1.934400              -0.309855   \n9               1.133787              -2.506621              -1.242974   \n\n   Principal Component 4  Principal Component 5 diabetes  \n0               0.824724              -0.259558       No  \n1              -0.975913               1.534656      Yes  \n2               0.838642              -0.888947       No  \n3              -1.430746               0.679286       No  \n4              -0.506174               0.500626       No  \n5               0.961222              -0.455764      Yes  \n6               0.982466               0.477533       No  \n7              -1.457285               1.907353       No  \n8              -0.609575              -0.188640       No  \n9               0.563146              -0.852876      Yes  \n"
     ]
    }
   ],
   "source": [
    "\n",
    "def transformpca(df,matrix_w):\n",
    "    dfnum = df.select_dtypes(include=np.number)\n",
    "    dfobj = df.select_dtypes(include=object)\n",
    "    dft= dfnum.dot(matrix_w) \n",
    "    dfcon = pd.concat([dft,dfobj],axis=1)\n",
    "    dfout = dfcon.rename(columns={0:'Principal Component 1',1:'Principal Component 2',2:'Principal Component 3',3:'Principal Component 4',\n",
    "                                  4:'Principal Component 5'})\n",
    "    \n",
    "    return dfout\n",
    "\n",
    "    \n",
    "pimatr_pX = transformpca(pimatr_nX, matrix_w)\n",
    "pimate_pX = transformpca(pimate_nX, matrix_w)\n",
    "\n",
    "\n",
    "print(pimatr_pX.head(10))\n",
    "\n"
   ]
  },
  {
   "cell_type": "code",
   "execution_count": 212,
   "metadata": {},
   "outputs": [],
   "source": [
    "# just to compare lets see what the pca with sklearn looks like: \n",
    "from sklearn import decomposition\n",
    "\n",
    "# PCA FUNCTION\n",
    "def pca(df, class_column):\n",
    "    pca = decomposition.PCA(n_components=5)\n",
    "    num_cols = df.columns[df.dtypes.apply(lambda c: np.issubdtype(c, np.number))]\n",
    "    pca.fit(df[num_cols])\n",
    "    df_transformed = pd.DataFrame(data=pca.transform(df[num_cols]))\n",
    "    print('explained variance',pca.explained_variance_  )\n",
    "    print('explained variance ratio',pca.explained_variance_ratio_)\n",
    "    print('explained variance cumulative',np.sum(pca.explained_variance_ratio_))\n",
    "    print('components_',pca.components_ )\n",
    "    \n",
    "    df_transformed_output = pd.concat([df_transformed, df[class_column]], axis=1)\n",
    "    \n",
    "    return df_transformed_output\n"
   ]
  },
  {
   "cell_type": "code",
   "execution_count": 215,
   "metadata": {},
   "outputs": [
    {
     "name": "stdout",
     "output_type": "stream",
     "text": [
      "explained variance [2.42136801 1.50396726 0.91644987 0.80399111 0.69360322]\nexplained variance ratio [0.34418017 0.2137782  0.1302668  0.11428159 0.09859074]\nexplained variance cumulative 0.9010975094755013\ncomponents_ [[ 0.36549332  0.36600186  0.41257275  0.43153727  0.39121306  0.02913468\n   0.47129619]\n [-0.46252565 -0.01274298 -0.1081158   0.414656    0.51287765  0.44983379\n  -0.36997986]\n [ 0.08559894  0.41826987 -0.08998228 -0.33683691 -0.24110317  0.78501771\n   0.14759294]\n [ 0.50059302 -0.68010455 -0.33498173  0.13305369  0.11380797  0.32442578\n   0.19683508]\n [-0.13226904 -0.4448877   0.82394333 -0.15432682 -0.10388828  0.25938476\n  -0.06170272]]\n            0         1         2         3         4 diabetes\n0   -0.939903 -0.238894 -0.679724  0.824724  0.259558       No\n1    1.786419 -2.170387  0.758981 -0.975913 -1.534656      Yes\n2    0.751950 -0.113891 -1.888647  0.838642  0.888947       No\n3    1.481443  2.137107 -1.195894 -1.430746 -0.679286       No\n4   -1.947877 -0.213475 -0.835228 -0.506174 -0.500626       No\n5    0.991065 -0.827095 -0.367709  0.961222  0.455764      Yes\n6   -1.139267  0.507577 -0.998158  0.982466 -0.477533       No\n7   -1.474267  0.079899  2.037172 -1.457285 -1.907353       No\n8    1.247997 -1.934400  0.309855 -0.609575  0.188640       No\n9    1.133787  2.506621  1.242974  0.563146  0.852876      Yes\n10  -0.248101  4.543793  4.427766  2.318727 -1.010286      Yes\n11   1.647276 -1.785355 -0.070334 -0.133945 -0.462098       No\n12   0.848952 -0.972492  1.351929 -1.148695 -1.709981      Yes\n13  -0.351433 -1.962460  2.041906  2.581872  0.151828      Yes\n14   0.416177  2.755645 -0.410895  1.441858  0.207814       No\n15  -1.679958 -1.335546 -0.347154 -0.319669  0.879529       No\n16  -2.515819  0.223789  1.803978  0.213604  0.373374       No\n17   3.056210 -1.693688 -0.290452  0.276362  0.671252      Yes\n18   0.107442 -0.383678  0.263442 -0.825653 -0.582225      Yes\n19  -2.154395 -0.713355  0.135332 -1.382321 -0.554881       No\n20  -1.996637 -1.387949 -0.157763 -0.362468  0.537298       No\n21  -0.350598  0.020879 -0.232778  0.438671 -0.001477       No\n22  -0.398621 -1.071406 -0.577272  0.224559  1.674296       No\n23  -2.588729 -0.743117 -0.224915 -0.595503  0.181000       No\n24  -0.665366  1.199390 -1.138254  0.452023  0.229459       No\n25   1.144616 -0.755134  1.811416 -0.156642  0.587067      Yes\n26  -2.667597 -0.263655  0.615283  0.090949  0.008739       No\n27  -0.240654  1.523844 -0.328264 -0.716610 -0.647461      Yes\n28   0.767906  0.288743 -1.221884  0.569388 -0.196857       No\n29  -0.433637  0.716868  0.294919  0.145069  0.686659       No\n..        ...       ...       ...       ...       ...      ...\n170  0.523993 -0.344625 -0.751309  0.935425 -1.159423      Yes\n171  0.042617 -0.123004 -1.223748  0.289600 -0.043303       No\n172  1.661883 -0.095122  1.781743 -0.387333 -1.210479      Yes\n173  1.579814  0.341901 -0.232858 -1.455191 -0.746518      Yes\n174 -0.428535  0.611478 -1.318793 -0.635761  1.371220      Yes\n175  0.214283 -1.502832 -0.444719  0.234455 -0.441726       No\n176 -2.316476 -0.991136 -0.319434 -0.677617 -0.249089       No\n177  1.904511 -0.598070 -0.300310 -0.139083  0.781677       No\n178  0.796608 -1.322199 -1.875107  1.867101  0.888307       No\n179  0.855700  0.568499 -0.935843 -1.211457 -0.667673       No\n180 -2.495060  0.093886  0.994554  0.728234 -0.165704       No\n181  2.425773 -1.354883 -0.425933  0.577831  0.060826       No\n182 -1.121763  0.869840 -0.187562 -0.383719 -0.053326       No\n183  1.642570  0.276534 -0.156436  1.758787  0.205581      Yes\n184  1.461899 -0.539200 -0.437384  1.100169 -0.617321       No\n185 -0.743063  1.472536 -0.035833 -0.518681 -0.857824      Yes\n186  1.812635 -1.821256 -0.089891  2.103835  0.274897      Yes\n187  1.734321 -1.798007  0.383057  0.602597 -2.071887      Yes\n188 -3.112508 -0.305608 -0.497617  0.419764 -0.316591       No\n189  1.452304 -0.710325 -0.578938 -1.489837  1.929067      Yes\n190 -1.322918  1.077632  0.675167 -0.176279  0.067213       No\n191  2.024975  0.898772  0.100261 -0.338970  0.242961       No\n192 -0.299332  2.316111 -0.326291  0.557898 -1.802067      Yes\n193 -0.855631  0.138716 -0.491445 -0.193904 -0.028286       No\n194 -0.996425  0.365991  1.359417 -0.772829  0.616703       No\n195 -1.043324  0.548438  0.925248 -0.180592 -0.830521       No\n196  1.906961  0.376975 -0.543178  1.011466 -0.886566      Yes\n197 -0.322854  1.934957 -0.589647  0.082989  0.258931       No\n198 -0.924139  0.819848 -0.909352 -0.146350 -0.992891       No\n199  1.103354 -0.856234  1.020448  0.594896 -1.272800      Yes\n\n[200 rows x 6 columns]\n"
     ]
    },
    {
     "data": {
      "image/png": "[encoded data removed]",
      "text/plain": [
       "<Figure size 1152x648 with 1 Axes>"
      ]
     },
     "metadata": {},
     "output_type": "display_data"
    },
    {
     "name": "stdout",
     "output_type": "stream",
     "text": [
      "          0         1         2         3         4 diabetes\n0 -0.939903 -0.238894 -0.679724  0.824724  0.259558       No\n1  1.786419 -2.170387  0.758981 -0.975913 -1.534656      Yes\n2  0.751950 -0.113891 -1.888647  0.838642  0.888947       No\n3  1.481443  2.137107 -1.195894 -1.430746 -0.679286       No\n4 -1.947877 -0.213475 -0.835228 -0.506174 -0.500626       No\n5  0.991065 -0.827095 -0.367709  0.961222  0.455764      Yes\n6 -1.139267  0.507577 -0.998158  0.982466 -0.477533       No\n7 -1.474267  0.079899  2.037172 -1.457285 -1.907353       No\n8  1.247997 -1.934400  0.309855 -0.609575  0.188640       No\n9  1.133787  2.506621  1.242974  0.563146  0.852876      Yes\n   Principal Component 1  Principal Component 2  Principal Component 3  \\\n0              -0.939903               0.238894               0.679724   \n1               1.786419               2.170387              -0.758981   \n2               0.751950               0.113891               1.888647   \n3               1.481443              -2.137107               1.195894   \n4              -1.947877               0.213475               0.835228   \n5               0.991065               0.827095               0.367709   \n6              -1.139267              -0.507577               0.998158   \n7              -1.474267              -0.079899              -2.037172   \n8               1.247997               1.934400              -0.309855   \n9               1.133787              -2.506621              -1.242974   \n\n   Principal Component 4  Principal Component 5 diabetes  \n0               0.824724              -0.259558       No  \n1              -0.975913               1.534656      Yes  \n2               0.838642              -0.888947       No  \n3              -1.430746               0.679286       No  \n4              -0.506174               0.500626       No  \n5               0.961222              -0.455764      Yes  \n6               0.982466               0.477533       No  \n7              -1.457285               1.907353       No  \n8              -0.609575              -0.188640       No  \n9               0.563146              -0.852876      Yes  \n"
     ]
    },
    {
     "data": {
      "text/plain": [
       "<Figure size 432x432 with 0 Axes>"
      ]
     },
     "execution_count": 0,
     "metadata": {},
     "output_type": "execute_result"
    }
   ],
   "source": [
    "pimatr_pX_sk = pca(pimatr_nX,'diabetes')\n",
    "print(pimatr_pX_sk)\n",
    "pimatr_pX_sk_target = pimatr_nX['diabetes']\n",
    "\n",
    "#df_pimatr_pX = pd.DataFrame(pimatr_pX_sk)\n",
    "#df_pimatr_pX_sk_target = pd.DataFrame(pimatr_pX_sk_target)\n",
    "\n",
    "plt.figure(figsize=[16,9])\n",
    "sns.scatterplot(x=pimatr_pX_sk.iloc[:,0], y=pimatr_pX_sk.iloc[:,1], hue=pimatr_pX_sk_target)\n",
    "plt.grid()\n",
    "plt.savefig((os.path.join(outputdir, 'Project 2 PCA plot sk') + '.png'), dpi=600)\n",
    "plt.show()\n",
    " \n",
    "\n",
    "fig = plt.figure(figsize=(6,6))\n",
    "\n",
    "print(pimatr_pX_sk.head(10))\n",
    "print(pimatr_pX.head(10))\n"
   ]
  },
  {
   "cell_type": "code",
   "execution_count": 220,
   "metadata": {},
   "outputs": [
    {
     "data": {
      "image/png": "[encoded data removed]",
      "text/plain": [
       "<Figure size 1152x648 with 1 Axes>"
      ]
     },
     "metadata": {},
     "output_type": "display_data"
    },
    {
     "data": {
      "image/png": "[encoded data removed]",
      "text/plain": [
       "<Figure size 432x432 with 1 Axes>"
      ]
     },
     "metadata": {},
     "output_type": "display_data"
    }
   ],
   "source": [
    "plt.figure(figsize=[16,9])\n",
    "sns.scatterplot(x='Principal Component 1', y='Principal Component 2', data=pimatr_pX, hue='diabetes')\n",
    "plt.grid()\n",
    "plt.savefig((os.path.join(outputdir, 'Project 2 PCA plot') + '.png'), dpi=600)\n",
    "plt.show()\n",
    "\n",
    "\n",
    "\n",
    "fig = plt.figure(figsize=(6,6))\n",
    "\n",
    "ax = Axes3D(fig) # Method 1\n",
    "# ax = fig.add_subplot(111, projection='3d') # Method 2\n",
    "\n",
    "x = pimatr_pX['Principal Component 1']\n",
    "y = pimatr_pX['Principal Component 2']\n",
    "z = pimatr_pX['Principal Component 3']\n",
    "c= ['red' if i == 'Yes' else 'green' for i in pimatr_pX['diabetes']]\n",
    "\n",
    "\n",
    "ax.scatter(x, y, z, c=c, marker='o')\n",
    "ax.set_xlabel('Principal Component 1')\n",
    "ax.set_ylabel('Principal Component 2')\n",
    "ax.set_zlabel('Principal Component 3')\n",
    "plt.savefig((os.path.join(outputdir, 'Project 2 PCA plot 3d') + '.png'), dpi=600)\n",
    "\n",
    "plt.show()"
   ]
  },
  {
   "cell_type": "code",
   "execution_count": 224,
   "metadata": {},
   "outputs": [],
   "source": [
    "# **** fishers linear discrimiant\n",
    "\n",
    "pimatr_nX_cl0 = pimatr_nX[(pimatr_nX.diabetes == 'Yes')]\n",
    "pimatr_nX_cl1 = pimatr_nX[(pimatr_nX.diabetes == 'No')]\n",
    "\n",
    "def fisherld(df):\n",
    "    num_dict = {'Yes': 0,'No':1}\n",
    "    df['diabetes'].replace(num_dict)\n",
    "    cov_1 = np.cov(df[['diabetes']==0])\n",
    "    cov_2 = np.cov(df[['diabetes']==1])\n",
    "    \n",
    "    mu1 = np.mean(df[['diabetes']==0])\n",
    "    mu2 = np.mean(df[['diabetes']==1])\n",
    "    SW = cov_1 + cov_2    \n",
    "    SB = np.dot((mu1 - mu2),np.transpose((mu1 - mu2)))\n",
    "    W = np.dot(np.linalg.inv(SW),(mu1-mu2).reshape(2,1))\n",
    "    print(cov_1,cov_2,SW)\n",
    "\n",
    "    return W\n",
    "\n",
    "    \n",
    "\n",
    "\n",
    "    "
   ]
  },
  {
   "cell_type": "code",
   "execution_count": 225,
   "metadata": {},
   "outputs": [],
   "source": [
    "from sklearn.discriminant_analysis import LinearDiscriminantAnalysis\n",
    "\n",
    "def sk_LDA(train_df, test_df):\n",
    "    num_cols = train_df.columns[train_df.dtypes.apply(lambda c: np.issubdtype(c, np.number))]\n",
    "    num_dict = {'Yes': 0,'No':1}\n",
    "    X = train_df[num_cols]\n",
    "    X_test  = test_df[num_cols]\n",
    "    X_arr = X.to_numpy(dtype='float64')\n",
    "    X_test_arr = X_test.to_numpy(dtype='float64')\n",
    "\n",
    "    print(X_arr.shape)\n",
    "    df_y = train_df['diabetes']\n",
    "    df_y_te = test_df['diabetes']\n",
    "\n",
    "    y =  np.asarray(df_y.replace(num_dict))\n",
    "    print(y.shape)\n",
    "\n",
    "    LDA = LinearDiscriminantAnalysis(store_covariance=True,solver='eigen')\n",
    "    output = LDA.fit(X=X_arr,y=y).transform(X_arr)\n",
    "    df_training_transformed = pd.DataFrame(output,columns=['FLD'])\n",
    "    \n",
    "    df_training_output = pd.concat([df_training_transformed,df_y],axis=1)\n",
    "    \n",
    "    testing_set_transformed = LDA.transform(X_test_arr)\n",
    "    df_testing_transformed = pd.DataFrame(testing_set_transformed,columns=['FLD'])\n",
    "\n",
    "    df_testing_output = pd.concat([df_testing_transformed,df_y_te],axis=1)\n",
    "\n",
    "    \n",
    "    print(LDA.intercept_)\n",
    "    \n",
    "    W = LDA.coef_ #Weight vectors\n",
    "    print(LDA.coef_ )\n",
    "    return df_training_output, df_testing_output, output, y, W, \n"
   ]
  },
  {
   "cell_type": "code",
   "execution_count": 238,
   "metadata": {
    "collapsed": false
   },
   "outputs": [
    {
     "name": "stdout",
     "output_type": "stream",
     "text": [
      "(200, 7)\n(200,)\n[1.0362893]\n[[-0.40963682 -1.16487405  0.03185011  0.01492697 -0.46437769 -0.5892693\n  -0.52814779]]\n"
     ]
    },
    {
     "name": "stderr",
     "output_type": "stream",
     "text": [
      "C:\\Program Files\\Python36\\lib\\site-packages\\ipykernel_launcher.py:26: MatplotlibDeprecationWarning: Adding an axes using the same arguments as a previous axes currently reuses the earlier instance.  In a future version, a new instance will always be created and returned.  Meanwhile, this warning can be suppressed, and the future behavior ensured, by passing a unique label to each axes instance.\nC:\\Program Files\\Python36\\lib\\site-packages\\ipykernel_launcher.py:33: MatplotlibDeprecationWarning: Adding an axes using the same arguments as a previous axes currently reuses the earlier instance.  In a future version, a new instance will always be created and returned.  Meanwhile, this warning can be suppressed, and the future behavior ensured, by passing a unique label to each axes instance.\n"
     ]
    },
    {
     "data": {
      "text/plain": [
       "<Figure size 1152x648 with 0 Axes>"
      ]
     },
     "execution_count": 0,
     "metadata": {},
     "output_type": "execute_result"
    },
    {
     "data": {
      "image/png": "[encoded data removed]",
      "text/plain": [
       "<Figure size 720x144 with 1 Axes>"
      ]
     },
     "metadata": {},
     "output_type": "display_data"
    }
   ],
   "source": [
    "\n",
    "df_pimatr_fX, df_pimate_fX, pimatr_fX, pimatr_fX_sk_target, Wv_fX_tr = sk_LDA(train_df=pimatr_nX,test_df=pimate_nX)\n",
    "\n",
    "\n",
    "\n",
    "#pimate_fX, pimate_fX_sk_target, Wv_fX_te  = sk_LDA(df=pimate_nX)\n",
    "\n",
    "\n",
    "\n",
    "#pimatr_fX_sk_target = pimatr_nX['diabetes'].copy() \n",
    "\n",
    "#num_dict = {'Yes': 0,'No':1}\n",
    "\n",
    "# convert yea and no to 0 and 1 for the target variables\n",
    "\n",
    "#pimatr_fX_sk_target= pimatr_fX_sk_target.replace(num_dict) \n",
    "\n",
    "\n",
    "#print(pimatr_fX)\n",
    "plt.figure(figsize=[16,9])\n",
    "markers = ['s','x','o']\n",
    "colors = ['r','g','b']\n",
    "fig = plt.figure(figsize=(10,2))\n",
    "plt.title('FLD 1-D')\n",
    "\n",
    "ax0 = fig.add_subplot(111)\n",
    "#ax0.title('FLD 1-d')\n",
    "ax0.scatter(x=pimatr_fX[pimatr_fX_sk_target==0],y=np.ones(len(pimatr_fX[pimatr_fX_sk_target==0])), alpha=0.5,s=10, label='class 0')\n",
    "ax0.scatter(x=pimatr_fX[pimatr_fX_sk_target==1],y=np.ones(len(pimatr_fX[pimatr_fX_sk_target==1])), alpha=0.5,s=10, label='class 1')\n",
    "plt.grid()\n",
    "plt.legend()\n",
    "\n",
    "ax1 = fig.add_subplot(111)\n",
    "ax1.hist(x=pimatr_fX[pimatr_fX_sk_target==0], alpha=0.5,label='class 0', density=True, histtype='stepfilled',bins=20)\n",
    "ax1.hist(x=pimatr_fX[pimatr_fX_sk_target==1], alpha=0.5,label='class 1', density=True, histtype='stepfilled',bins=20)\n",
    "\n",
    "plt.savefig((os.path.join(outputdir, 'Project 2 FLD plot sk') + '.png'), dpi=600)\n",
    "plt.show()\n",
    "\n",
    "\n",
    "#for l,m,c in zip(np.unique(pimatr_fX_sk_target),markers,colors):\n",
    "  #  ax0.scatter(pimatr_fX[:,0][pimatr_fX_sk_target==l],pimatr_fX[:,1][pimatr_fX_sk_target==l],c=c,marker=m)\n",
    "\n",
    "#DP = np.dot(D, Wv).T * Wv / (np.dot(Wv,Wv))\n",
    "\n",
    "#sns.scatterplot(x=pimatr_fX[:,0], y=pimatr_fX[:,1], hue=pimatr_pX_sk_target)\n"
   ]
  },
  {
   "cell_type": "code",
   "execution_count": 227,
   "metadata": {},
   "outputs": [
    {
     "ename": "NameError",
     "evalue": "name 'trclass0' is not defined",
     "traceback": [
      "\u001b[1;31m---------------------------------------------------------------------------\u001b[0m",
      "\u001b[1;31mNameError\u001b[0m                                 Traceback (most recent call last)",
      "\u001b[1;32m<ipython-input-227-725dc1bbe5b4>\u001b[0m in \u001b[0;36m<module>\u001b[1;34m\u001b[0m\n\u001b[1;32m----> 1\u001b[1;33m \u001b[0mfldclasss0\u001b[0m \u001b[1;33m=\u001b[0m \u001b[0mpd\u001b[0m\u001b[1;33m.\u001b[0m\u001b[0mconcat\u001b[0m\u001b[1;33m(\u001b[0m\u001b[1;33m[\u001b[0m\u001b[0mtransformpca\u001b[0m\u001b[1;33m(\u001b[0m\u001b[0mtrclass0\u001b[0m\u001b[1;33m,\u001b[0m\u001b[0mmatrixWclass0\u001b[0m\u001b[1;33m)\u001b[0m\u001b[1;33m,\u001b[0m\u001b[0mpimatr_nX_cl0\u001b[0m\u001b[1;33m[\u001b[0m\u001b[1;34m'diabetes'\u001b[0m\u001b[1;33m]\u001b[0m\u001b[1;33m]\u001b[0m\u001b[1;33m,\u001b[0m \u001b[0maxis\u001b[0m\u001b[1;33m=\u001b[0m\u001b[1;36m1\u001b[0m\u001b[1;33m)\u001b[0m\u001b[1;33m\u001b[0m\u001b[0m\n\u001b[0m\u001b[0;32m      2\u001b[0m \u001b[0mfldclasss1\u001b[0m \u001b[1;33m=\u001b[0m \u001b[0mpd\u001b[0m\u001b[1;33m.\u001b[0m\u001b[0mconcat\u001b[0m\u001b[1;33m(\u001b[0m\u001b[1;33m[\u001b[0m\u001b[0mtransformpca\u001b[0m\u001b[1;33m(\u001b[0m\u001b[0mtrclass1\u001b[0m\u001b[1;33m,\u001b[0m\u001b[0mmatrixWclass1\u001b[0m\u001b[1;33m)\u001b[0m\u001b[1;33m,\u001b[0m\u001b[0mpimatr_nX_cl1\u001b[0m\u001b[1;33m[\u001b[0m\u001b[1;34m'diabetes'\u001b[0m\u001b[1;33m]\u001b[0m\u001b[1;33m]\u001b[0m\u001b[1;33m,\u001b[0m \u001b[0maxis\u001b[0m\u001b[1;33m=\u001b[0m\u001b[1;36m1\u001b[0m\u001b[1;33m)\u001b[0m\u001b[1;33m\u001b[0m\u001b[0m\n\u001b[0;32m      3\u001b[0m \u001b[1;33m\u001b[0m\u001b[0m\n\u001b[0;32m      4\u001b[0m \u001b[0mtr_fld\u001b[0m \u001b[1;33m=\u001b[0m \u001b[0mpd\u001b[0m\u001b[1;33m.\u001b[0m\u001b[0mconcat\u001b[0m\u001b[1;33m(\u001b[0m\u001b[1;33m[\u001b[0m\u001b[0mfldclasss0\u001b[0m\u001b[1;33m,\u001b[0m\u001b[0mfldclasss1\u001b[0m\u001b[1;33m]\u001b[0m\u001b[1;33m,\u001b[0m \u001b[0maxis\u001b[0m\u001b[1;33m=\u001b[0m\u001b[1;36m0\u001b[0m\u001b[1;33m)\u001b[0m\u001b[1;33m\u001b[0m\u001b[0m\n\u001b[0;32m      5\u001b[0m \u001b[1;33m\u001b[0m\u001b[0m\n",
      "\u001b[1;31mNameError\u001b[0m: name 'trclass0' is not defined"
     ],
     "output_type": "error"
    }
   ],
   "source": [
    "fldclasss0 = pd.concat([transformpca(trclass0,matrixWclass0),pimatr_nX_cl0['diabetes']], axis=1)\n",
    "fldclasss1 = pd.concat([transformpca(trclass1,matrixWclass1),pimatr_nX_cl1['diabetes']], axis=1)\n",
    "\n",
    "tr_fld = pd.concat([fldclasss0,fldclasss1], axis=0)\n",
    "\n",
    "plt.figure(figsize=[16,9])\n",
    "sns.scatterplot('Principal Component 1', 'Principal Component 2', data=tr_fld, hue='diabetes')\n",
    "plt.grid()\n",
    "plt.savefig((os.path.join(outputdir, 'Project 2 FLD plot') + '.png'), dpi=600)\n",
    "plt.show()"
   ]
  },
  {
   "cell_type": "code",
   "execution_count": 235,
   "metadata": {},
   "outputs": [],
   "source": [
    "# Case 1 (Euclidean Distance)\n",
    "# Define the Case 1 function\n",
    "\n",
    "def euclidist(X, muv1, muv2, class_column):\n",
    "    \n",
    "    classes = pd.DataFrame(data=X[class_column])\n",
    "    \n",
    "    start = time.time() # timer\n",
    "    df_testing_num = pd.DataFrame(X.select_dtypes(include=np.number))\n",
    "    \n",
    "    \n",
    "    \n",
    "    #xy = X[X.columns[:2]]\n",
    "    \n",
    "    # creates two new columns with the distance of each point from the mean of each class \n",
    "    euclid_dist_class_0 = np.sqrt(np.sum(np.power(np.subtract(df_testing_num, muv1.T),2),axis=1))\n",
    "    euclid_dist_class_1 = np.sqrt(np.sum(np.power(np.subtract(df_testing_num, muv2.T),2),axis=1))\n",
    "\n",
    "    # selects the class based on the smaller of the two\n",
    "    conditions = (euclid_dist_class_0 < euclid_dist_class_1, \n",
    "                  euclid_dist_class_0 > euclid_dist_class_1 )\n",
    "    choices = ('Yes' , 'No')\n",
    "    results = np.select(conditions, choices)\n",
    "    \n",
    "    output = pd.DataFrame(results,columns=['case_1_class'],index=X.index)\n",
    "    #classes['case_1_class']\n",
    "    # I don't remember why I put this here, but I probably should not touch it... too late...\n",
    "    Xout = pd.DataFrame(data=pd.concat([output,classes],axis=1))\n",
    "    \n",
    "    # prints \n",
    "    end = time.time()\n",
    "    print ('time to complete:', end - start, 'seconds')\n",
    "    \n",
    "    return Xout\n"
   ]
  },
  {
   "cell_type": "code",
   "execution_count": 256,
   "metadata": {},
   "outputs": [],
   "source": [
    "# Case 2 (Mahalanobis Distance)\n",
    "\n",
    "# Define the Case 2 function:\n",
    "\n",
    "def mahalanobisdist2(X, E1, E2, muv1, muv2):\n",
    "    start = time.time() # timer started\n",
    "    df_testing_num = pd.DataFrame(X.select_dtypes(include=np.number))\n",
    "\n",
    "    #xy = np.array(X.iloc[:,:2]) # select all rows in the first 2 columns\n",
    "    case_2_class = [] #emtpy data object to add reslts to\n",
    "    for irow in df_testing_num:\n",
    "        xrow = irow.T #converts the row vector to a column vector\n",
    "        \n",
    "        # Calculates the mahalanobis distance between each data point \n",
    "        # and the mean determined for each class \n",
    "        \n",
    "        md1 = np.dot(np.dot((xrow - muv1).T , np.linalg.inv(E1)),(xrow - muv1))\n",
    "                           \n",
    "        md2 = np.dot(np.dot((xrow - muv2).T , np.linalg.inv(E2)) ,(xrow - muv2))\n",
    "        \n",
    "        g1 = -md1/2\n",
    "        g2 = -md2/2\n",
    "\n",
    "        conditions = (g1 > g2, g1 < g2)\n",
    "        choices = ('Yes' , 'No')\n",
    "        select = np.select(conditions, choices)\n",
    "        case_2_class.append(select)\n",
    "\n",
    "\n",
    "        \n",
    "    discrim = pd.DataFrame(np.concatenate(case_2_class))\n",
    "    discrim.rename(columns={0: 'case_2_class'}, inplace=True)\n",
    "\n",
    "    Xout = pd.concat([X, discrim], axis=1)\n",
    "\n",
    "    # prints \n",
    "    end = time.time()\n",
    "    print ('time to complete:', end - start, 'seconds')\n",
    "    return Xout\n"
   ]
  },
  {
   "cell_type": "code",
   "execution_count": 257,
   "metadata": {},
   "outputs": [],
   "source": [
    "# Case 3 (Maximum A-Priori Probability, Mahalanobis Distance)\n",
    "\n",
    "# Define the Case 3 function:\n",
    "\n",
    "def case_3_discrim(X, E1, E2, muv1, muv2):\n",
    "    start = time.time() # timer started\n",
    "    xy = np.array(X.iloc[:,:2]) # select all rows in the first 2 columns\n",
    "    case_2_class = [] #emtpy data object to add reslts to\n",
    "    for irow in xy:\n",
    "        xrow = irow.reshape(-1,1) #converts the row vector to a column vector\n",
    "        test1 = (xrow - muv1)\n",
    "        #print(test1)\n",
    "\n",
    "        # Calculates the mahalanobis distance between each\n",
    "        #  data point and the mean determined for each class \n",
    "          \n",
    "        md1 = np.dot(np.dot((xrow - muv1).T , np.linalg.inv(E1)),(xrow - muv1)) \n",
    "                           \n",
    "        md2 = np.dot(np.dot((xrow - muv2).T , np.linalg.inv(E2)) ,(xrow - muv2))\n",
    "        \n",
    "        g1 = -md1/2 - ((np.log(np.linalg.det(E1)))/2)\n",
    "        g2 = -md2/2 - ((np.log(np.linalg.det(E2)))/2)\n",
    "\n",
    "        #md1 = np.sqrt(\n",
    "                   # np.dot(\n",
    "        #                np.dot((xrow - muv1).T , np.linalg.inv(E1)) \n",
    "         #                   ,(xrow - muv1)))\n",
    "       # md2 = np.sqrt(\n",
    "        #            np.dot(\n",
    "        #                np.dot((xrow - muv2).T , np.linalg.inv(E2)) \n",
    "        #                    ,(xrow - muv2)))\n",
    "        conditions = (g1 > g2, g1 < g2)\n",
    "        choices = (0, 1)\n",
    "        select = np.select(conditions, choices)\n",
    "        case_2_class.append(select)\n",
    "\n",
    "\n",
    "        \n",
    "    discrim = pd.DataFrame(np.concatenate(case_2_class))\n",
    "    discrim.rename(columns={0: 'case_2_class'}, inplace=True)\n",
    "\n",
    "    Xout = pd.concat([X, discrim], axis=1)\n",
    "\n",
    "    # prints \n",
    "    end = time.time()\n",
    "    print ('time to complete:', end - start, 'seconds')\n",
    "    return Xout\n",
    "\n"
   ]
  },
  {
   "cell_type": "code",
   "execution_count": 253,
   "metadata": {},
   "outputs": [],
   "source": [
    "\n",
    "def error_rates(truecol, testcol):\n",
    "    dict = {'Yes': 0,'No':1}\n",
    "    test = np.array(testcol.replace(dict))\n",
    "    np.reshape(test,(-1,1))\n",
    "    \n",
    "    truth = np.array(truecol.replace(dict))\n",
    "    truth.reshape(-1,1)\n",
    "    \n",
    "    #table = (truth == 1) & (test == 0)\n",
    "   # print(table)\n",
    "\n",
    "\n",
    "    #discriminator\n",
    "    conditions = [(truth == 0) & (test == 0),\n",
    "                  (truth == 0) & (test == 1),\n",
    "                  (truth == 1) & (test == 1),\n",
    "                  (truth == 1) & (test == 0)] \n",
    "    choices = ['TP', 'FP', 'TN','FN']\n",
    "    error_def = np.select(conditions,choices)\n",
    "    \n",
    "    #'True Positive Rate (TPR) or Sensitivity = TP / (TP + FN)'\n",
    "    #'True Negative Rate (TNR) or Specificity = TN / (FP + TN)'\n",
    "    #rate = error_def.groupby('error2', as_index=False).size()\n",
    "\n",
    "    #the pandas groupby function was used to get the total counts of the errors for each class\n",
    "    labels,count = np.unique(error_def, return_counts=True)\n",
    "    df_rates = pd.DataFrame(count,index=labels)\n",
    "    df_rates_t = df_rates.T\n",
    "    \n",
    "    df_rates_t['TPR'] = (df_rates_t['TP'])/(df_rates_t['TP'] + df_rates_t['FN'])\n",
    "    df_rates_t['FPR']  = (df_rates_t['FP'])/(df_rates_t['FP'] + df_rates_t['TN'])\n",
    "    df_rates_t['Acc']  =  (df_rates_t['TN'] + df_rates_t['TP'])/(df_rates_t['TN']+df_rates_t['TP']+df_rates_t['FN']+ df_rates_t['FP']) \n",
    "    print(df_rates_t)\n",
    "\n",
    "    #print(df_rates_t)\n",
    "\n",
    "    return df_rates_t\n",
    "\n"
   ]
  },
  {
   "cell_type": "code",
   "execution_count": 232,
   "metadata": {},
   "outputs": [],
   "source": [
    "####\n",
    "def Kens_kNNnew(df_training, class_column, df_testing, k ):\n",
    "    start = time.time()\n",
    "    df_training_num = pd.DataFrame(df_training.select_dtypes(include=np.number))\n",
    "    df_testing_num = pd.DataFrame(df_testing.select_dtypes(include=np.number))\n",
    "    kNNlist = []\n",
    "\n",
    "    def rowply(row):\n",
    "       \n",
    "        Xdist = pd.DataFrame(np.sqrt(np.sum(np.power(np.subtract(df_training_num, row.T), 2), axis=1)))\n",
    "        \n",
    "        Xdist.rename(columns={0: 'dist'}, inplace=True)\n",
    "        trdataX = pd.concat([Xdist, df_training[class_column]], axis=1)\n",
    "        test1 = trdataX.nsmallest(n=k, columns='dist', keep='first')\n",
    "\n",
    "        test2 = test1.groupby(class_column).size().reset_index()\n",
    "\n",
    "        test2.rename(columns={0: 'count'}, inplace=True)\n",
    "\n",
    "        test3 = test2.nlargest(n=1, columns='count', keep='first')\n",
    "\n",
    "        kNNlist.append(test3[class_column].values)\n",
    "\n",
    "        return\n",
    "\n",
    "    df_testing_num.apply(rowply, axis=1)\n",
    "\n",
    "    kNNclasslistapp = pd.DataFrame(np.concatenate(kNNlist),index=df_testing.index)\n",
    "    kNNclasslistapp.rename(columns={0: 'kNN_class'}, inplace=True)\n",
    "    Xout = pd.concat([df_testing, kNNclasslistapp], axis=1)\n",
    "    end = time.time()\n",
    "    print('kNN time to complete:', end - start, 'seconds')\n",
    "    return Xout\n",
    "\n"
   ]
  },
  {
   "cell_type": "code",
   "execution_count": 233,
   "metadata": {},
   "outputs": [],
   "source": [
    "\n",
    "def errorchk(df, truecol, testcol, title, x, y):\n",
    "    \n",
    "    start = time.time() #timer\n",
    "    \n",
    "    #discriminator\n",
    "    conditions = (truecol == 0 and testcol == 0,\n",
    "                  truecol == 0 and testcol == 1,\n",
    "                  truecol == 1 and testcol == 1,\n",
    "                  truecol == 1 and testcol == 0) \n",
    "    choices = ('TP', 'FP', 'TN','FN')\n",
    "    df['error1'] = np.select(conditions,choices)\n",
    "    \n",
    "    #the pandas groupby function was used to get the total counts of the errors for each class\n",
    "    rate = df.groupby('error1', as_index=False).size()\n",
    "    TPR = (rate['TP'])/(rate['TP'] + rate['FN'])\n",
    "    TNR = (rate['TN'])/(rate['FP'] + rate['TN'])\n",
    "\n",
    "    'True Positive Rate (TPR) or Sensitivity = TP / (TP + FN)'\n",
    "    'True Negative Rate (TNR) or Specificity = TN / (FP + TN)'\n",
    "    \n",
    "    #accuracy = (rate['correct'])/(rate['correct'] + rate['error'])\n",
    "    #print ('total accuracy:',accuracy)\n",
    "    colordef0 = ['blue' if i == 'Yes' else 'None' for i in truecol]\n",
    "    colordef1 = ['green' if i == 'No' else 'None' for i in truecol]\n",
    "\n",
    "    colordeferr = ['red' if i == 'error' else 'None' for i in df['error1']]\n",
    "    \n",
    "    # plots the data\n",
    "    plt.subplots()\n",
    "    plt.scatter(x=x, y=y, c=colordef0, label='Class 0',  s=5)\n",
    "    plt.scatter(x=x, y=y, c=colordef1, label='Class 1',  s=5)\n",
    "    plt.scatter(x=x, y=y, c=colordeferr, label='Error', marker='^',  s=4)\n",
    "    plt.grid()\n",
    "    plt.title(title)\n",
    "    plt.legend()\n",
    "    plt.savefig((os.path.join(outputdir, title) + '.png'), dpi=600)\n",
    "\n",
    "    plt.show()\n",
    "    end = time.time()\n",
    "\n",
    "    print ('time to complete:', end - start, 'seconds')\n",
    "\n",
    "    return df\n",
    "\n",
    "\n"
   ]
  },
  {
   "cell_type": "code",
   "execution_count": 167,
   "metadata": {},
   "outputs": [
    {
     "name": "stdout",
     "output_type": "stream",
     "text": [
      "kNN time to complete: 2.5174145698547363 seconds\n   FN  FP   TN  TP\n0  47  51  176  58\n"
     ]
    },
    {
     "name": "stderr",
     "output_type": "stream",
     "text": [
      "C:\\Program Files\\Python36\\lib\\site-packages\\pandas\\core\\indexing.py:190: SettingWithCopyWarning: \nA value is trying to be set on a copy of a slice from a DataFrame\n\nSee the caveats in the documentation: http://pandas.pydata.org/pandas-docs/stable/indexing.html#indexing-view-versus-copy\n  self._setitem_with_indexer(indexer, value)\n"
     ]
    },
    {
     "name": "stdout",
     "output_type": "stream",
     "text": [
      "kNN time to complete: 2.3152198791503906 seconds\n   FN  FP   TN  TP\n0  15  72  208  37\n"
     ]
    },
    {
     "name": "stdout",
     "output_type": "stream",
     "text": [
      "kNN time to complete: 2.6765778064727783 seconds\n   FN  FP   TN  TP\n0  34  52  189  57\n"
     ]
    },
    {
     "name": "stdout",
     "output_type": "stream",
     "text": [
      "kNN time to complete: 2.3672690391540527 seconds\n   FN  FP   TN  TP\n0  22  67  201  42\n"
     ]
    },
    {
     "name": "stdout",
     "output_type": "stream",
     "text": [
      "kNN time to complete: 2.260166645050049 seconds\n   FN  FP   TN  TP\n0  31  54  192  55\n"
     ]
    },
    {
     "name": "stdout",
     "output_type": "stream",
     "text": [
      "kNN time to complete: 2.0920186042785645 seconds\n   FN  FP   TN  TP\n0  19  63  204  46\n"
     ]
    },
    {
     "name": "stdout",
     "output_type": "stream",
     "text": [
      "kNN time to complete: 2.0559840202331543 seconds\n   FN  FP   TN  TP\n0  27  55  196  54\n"
     ]
    },
    {
     "name": "stdout",
     "output_type": "stream",
     "text": [
      "kNN time to complete: 2.0589771270751953 seconds\n   FN  FP   TN  TP\n0  20  64  203  45\n"
     ]
    },
    {
     "name": "stdout",
     "output_type": "stream",
     "text": [
      "kNN time to complete: 2.0569827556610107 seconds\n   FN  FP   TN  TP\n0  24  54  199  55\n        Acc  FN  FP       FPR   TN  TP       TPR    k\n0  0.704819  47  51  0.224670  176  58  0.552381  1.0\n2  0.740964  34  52  0.215768  189  57  0.626374  3.0\n4  0.743976  31  54  0.219512  192  55  0.639535  5.0\n3  0.731928  22  67  0.250000  201  42  0.656250  4.0\n6  0.753012  27  55  0.219124  196  54  0.666667  7.0\n7  0.746988  20  64  0.239700  203  45  0.692308  8.0\n8  0.765060  24  54  0.213439  199  55  0.696203  9.0\n5  0.753012  19  63  0.235955  204  46  0.707692  6.0\n1  0.737952  15  72  0.257143  208  37  0.711538  2.0\n"
     ]
    }
   ],
   "source": [
    "\n",
    "knn_roc_data_nX = pd.DataFrame(columns = ['k','TP', 'FP', 'TN','FN', 'TPR','FPR','Acc'])\n",
    "\n",
    "for i in np.arange(1,10):\n",
    "    nX_data_kNN = Kens_kNNnew(df_training=pimatr_nX,class_column='diabetes', df_testing=pimate_nX, k=i)\n",
    "    df_errors_types = error_rates(truecol=nX_data_kNN['diabetes'], testcol=nX_data_kNN['kNN_class'])\n",
    "    knn_roc_data_nX = knn_roc_data_nX.append(df_errors_types,\n",
    "                        ignore_index=True, # ignores index labels\n",
    "                        sort=True)\n",
    "    knn_roc_data_nX['k'].iloc[i-1] = i\n",
    "print(knn_roc_data_nX.sort_values(by='TPR'))\n",
    "#def ROC_curve(df_train, df_test):\n",
    "knn_roc_data_nX.to_csv('knn_roc_data_nX.csv')"
   ]
  },
  {
   "cell_type": "code",
   "execution_count": 168,
   "metadata": {},
   "outputs": [],
   "source": [
    "knn_roc_data_nX.to_csv('knn_roc_data_nX.csv')"
   ]
  },
  {
   "cell_type": "code",
   "execution_count": 169,
   "metadata": {
    "collapsed": true
   },
   "outputs": [
    {
     "data": {
      "text/plain": [
       "[<matplotlib.lines.Line2D at 0x81789ede48>]"
      ]
     },
     "execution_count": 169,
     "metadata": {},
     "output_type": "execute_result"
    },
    {
     "data": {
      "image/png": "[encoded data removed]",
      "text/plain": [
       "<Figure size 432x288 with 1 Axes>"
      ]
     },
     "metadata": {},
     "output_type": "display_data"
    }
   ],
   "source": [
    "\n",
    "\n",
    "knn_roc_data_sorted = knn_roc_data_nX.sort_values(by='TPR')\n",
    "\n",
    "plt.Figure(figsize=(5,5))\n",
    "plt.xlim(0,1)\n",
    "plt.ylim(0,1)\n",
    "plt.grid()\n",
    "plt.xlabel('False Positive Rate')\n",
    "plt.ylabel('True Positive Rate')\n",
    "plt.title('ROC_curve nX')\n",
    "plt.plot(knn_roc_data_sorted[['FPR']], knn_roc_data_sorted[['TPR']], linewidth= 1)"
   ]
  },
  {
   "cell_type": "code",
   "execution_count": 170,
   "metadata": {},
   "outputs": [
    {
     "ename": "NameError",
     "evalue": "name 'knn_roc_data_pX' is not defined",
     "traceback": [
      "\u001b[1;31m---------------------------------------------------------------------------\u001b[0m",
      "\u001b[1;31mNameError\u001b[0m                                 Traceback (most recent call last)",
      "\u001b[1;32m<ipython-input-170-2406b76a6316>\u001b[0m in \u001b[0;36m<module>\u001b[1;34m\u001b[0m\n\u001b[0;32m      9\u001b[0m \u001b[0mplt\u001b[0m\u001b[1;33m.\u001b[0m\u001b[0msavefig\u001b[0m\u001b[1;33m(\u001b[0m\u001b[1;33m(\u001b[0m\u001b[0mos\u001b[0m\u001b[1;33m.\u001b[0m\u001b[0mpath\u001b[0m\u001b[1;33m.\u001b[0m\u001b[0mjoin\u001b[0m\u001b[1;33m(\u001b[0m\u001b[0moutputdir\u001b[0m\u001b[1;33m,\u001b[0m \u001b[1;34m'Project 2 knn acc plot nX'\u001b[0m\u001b[1;33m)\u001b[0m \u001b[1;33m+\u001b[0m \u001b[1;34m'.png'\u001b[0m\u001b[1;33m)\u001b[0m\u001b[1;33m,\u001b[0m \u001b[0mdpi\u001b[0m\u001b[1;33m=\u001b[0m\u001b[1;36m600\u001b[0m\u001b[1;33m)\u001b[0m\u001b[1;33m\u001b[0m\u001b[0m\n\u001b[0;32m     10\u001b[0m \u001b[1;33m\u001b[0m\u001b[0m\n\u001b[1;32m---> 11\u001b[1;33m \u001b[0mknn_roc_data_pX\u001b[0m\u001b[1;33m.\u001b[0m\u001b[0mto_csv\u001b[0m\u001b[1;33m(\u001b[0m\u001b[1;34m'knn_roc_data_pX'\u001b[0m\u001b[1;33m)\u001b[0m\u001b[1;33m\u001b[0m\u001b[0m\n\u001b[0m\u001b[0;32m     12\u001b[0m \u001b[1;33m\u001b[0m\u001b[0m\n",
      "\u001b[1;31mNameError\u001b[0m: name 'knn_roc_data_pX' is not defined"
     ],
     "output_type": "error"
    },
    {
     "data": {
      "image/png": "[encoded data removed]",
      "text/plain": [
       "<Figure size 432x288 with 1 Axes>"
      ]
     },
     "metadata": {},
     "output_type": "display_data"
    }
   ],
   "source": [
    "knn_acc_data_nX = knn_roc_data_nX.sort_values(by='k')\n",
    "plt.figure()\n",
    "plt.title('kNN Accuracy nX')\n",
    "plt.plot(knn_acc_data_nX[['k']] ,knn_acc_data_nX[['Acc']])\n",
    "plt.xticks()\n",
    "plt.grid()\n",
    "plt.xlabel('k')\n",
    "plt.ylabel('Accuracy')\n",
    "plt.savefig((os.path.join(outputdir, 'Project 2 knn acc plot nX') + '.png'), dpi=600)\n",
    "\n",
    "knn_roc_data_pX.to_csv('knn_roc_data_pX')\n",
    "\n"
   ]
  },
  {
   "cell_type": "code",
   "execution_count": 240,
   "metadata": {},
   "outputs": [
    {
     "name": "stdout",
     "output_type": "stream",
     "text": [
      "explained variance [2.48041253 1.59738095 1.37404835 0.83579611 0.73098451]\nexplained variance ratio [0.32635416 0.21017146 0.18078702 0.10996781 0.09617748]\nexplained variance cumulative 0.9234579289762805\ncomponents_ [[ 0.23824647  0.33048405  0.45463374  0.3357816   0.56198278  0.30819309\n   0.32213375]\n [-0.57268811 -0.00519075 -0.07263412  0.2590656   0.52982657 -0.11509554\n  -0.55285396]\n [-0.13685027  0.16589171 -0.40443143 -0.02784219 -0.11249456  0.87449985\n  -0.10957623]\n [ 0.38993405  0.02139677 -0.76363214  0.33069184  0.27511307 -0.22989404\n   0.16267761]\n [-0.16254856  0.91972606 -0.09356672 -0.12794062 -0.17331114 -0.26929063\n   0.00205477]]\n"
     ]
    },
    {
     "name": "stdout",
     "output_type": "stream",
     "text": [
      "kNN time to complete: 3.3241734504699707 seconds\n   FN  FP   TN  TP\n0  49  57  174  52\n"
     ]
    },
    {
     "name": "stderr",
     "output_type": "stream",
     "text": [
      "C:\\Program Files\\Python36\\lib\\site-packages\\pandas\\core\\indexing.py:190: SettingWithCopyWarning: \nA value is trying to be set on a copy of a slice from a DataFrame\n\nSee the caveats in the documentation: http://pandas.pydata.org/pandas-docs/stable/indexing.html#indexing-view-versus-copy\n  self._setitem_with_indexer(indexer, value)\n"
     ]
    },
    {
     "name": "stdout",
     "output_type": "stream",
     "text": [
      "kNN time to complete: 2.7256152629852295 seconds\n   FN  FP   TN  TP\n0  25  79  198  30\n"
     ]
    },
    {
     "name": "stdout",
     "output_type": "stream",
     "text": [
      "kNN time to complete: 2.7065958976745605 seconds\n   FN  FP   TN  TP\n0  34  60  189  49\n"
     ]
    },
    {
     "name": "stdout",
     "output_type": "stream",
     "text": [
      "kNN time to complete: 2.402316093444824 seconds\n   FN  FP   TN  TP\n0  16  76  207  33\n"
     ]
    },
    {
     "name": "stdout",
     "output_type": "stream",
     "text": [
      "kNN time to complete: 2.560443878173828 seconds\n   FN  FP   TN  TP\n0  25  67  198  42\n"
     ]
    },
    {
     "name": "stdout",
     "output_type": "stream",
     "text": [
      "kNN time to complete: 2.39629864692688 seconds\n   FN  FP   TN  TP\n0  16  81  207  28\n"
     ]
    },
    {
     "name": "stdout",
     "output_type": "stream",
     "text": [
      "kNN time to complete: 2.3041982650756836 seconds\n   FN  FP   TN  TP\n0  27  71  196  38\n"
     ]
    },
    {
     "name": "stdout",
     "output_type": "stream",
     "text": [
      "kNN time to complete: 2.7496485710144043 seconds\n   FN  FP   TN  TP\n0  17  79  206  30\n"
     ]
    },
    {
     "name": "stdout",
     "output_type": "stream",
     "text": [
      "kNN time to complete: 2.956836462020874 seconds\n   FN  FP   TN  TP\n0  24  74  199  35\n"
     ]
    },
    {
     "name": "stdout",
     "output_type": "stream",
     "text": [
      "kNN time to complete: 2.3942980766296387 seconds\n   FN  FP   TN  TP\n0  18  80  205  29\n"
     ]
    },
    {
     "name": "stdout",
     "output_type": "stream",
     "text": [
      "kNN time to complete: 2.544440507888794 seconds\n   FN  FP   TN  TP\n0  21  74  202  35\n"
     ]
    },
    {
     "name": "stdout",
     "output_type": "stream",
     "text": [
      "kNN time to complete: 2.267174482345581 seconds\n   FN  FP   TN  TP\n0  19  78  204  31\n"
     ]
    },
    {
     "name": "stdout",
     "output_type": "stream",
     "text": [
      "kNN time to complete: 2.208118200302124 seconds\n   FN  FP   TN  TP\n0  24  73  199  36\n"
     ]
    },
    {
     "name": "stdout",
     "output_type": "stream",
     "text": [
      "kNN time to complete: 2.3342363834381104 seconds\n   FN  FP   TN  TP\n0  16  78  207  31\n"
     ]
    },
    {
     "name": "stdout",
     "output_type": "stream",
     "text": [
      "kNN time to complete: 2.3382437229156494 seconds\n   FN  FP   TN  TP\n0  21  71  202  38\n"
     ]
    },
    {
     "name": "stdout",
     "output_type": "stream",
     "text": [
      "kNN time to complete: 2.378270149230957 seconds\n   FN  FP   TN  TP\n0  18  74  205  35\n"
     ]
    },
    {
     "name": "stdout",
     "output_type": "stream",
     "text": [
      "kNN time to complete: 3.1290009021759033 seconds\n   FN  FP   TN  TP\n0  19  71  204  38\n"
     ]
    },
    {
     "name": "stdout",
     "output_type": "stream",
     "text": [
      "kNN time to complete: 2.8537373542785645 seconds\n   FN  FP   TN  TP\n0  16  75  207  34\n"
     ]
    },
    {
     "name": "stdout",
     "output_type": "stream",
     "text": [
      "kNN time to complete: 2.7616493701934814 seconds\n   FN  FP   TN  TP\n0  21  71  202  38\n"
     ]
    },
    {
     "name": "stdout",
     "output_type": "stream",
     "text": [
      "kNN time to complete: 2.780665636062622 seconds\n   FN  FP   TN  TP\n0  15  75  208  34\n"
     ]
    },
    {
     "name": "stdout",
     "output_type": "stream",
     "text": [
      "kNN time to complete: 2.6495425701141357 seconds\n   FN  FP   TN  TP\n0  21  72  202  37\n"
     ]
    },
    {
     "name": "stdout",
     "output_type": "stream",
     "text": [
      "kNN time to complete: 2.530435562133789 seconds\n   FN  FP   TN  TP\n0  18  73  205  36\n"
     ]
    },
    {
     "name": "stdout",
     "output_type": "stream",
     "text": [
      "kNN time to complete: 2.31221866607666 seconds\n   FN  FP   TN  TP\n0  21  70  202  39\n"
     ]
    },
    {
     "name": "stdout",
     "output_type": "stream",
     "text": [
      "kNN time to complete: 2.261168956756592 seconds\n   FN  FP   TN  TP\n0  18  76  205  33\n"
     ]
    },
    {
     "name": "stdout",
     "output_type": "stream",
     "text": [
      "kNN time to complete: 2.4443445205688477 seconds\n   FN  FP   TN  TP\n0  23  69  200  40\n"
     ]
    },
    {
     "name": "stdout",
     "output_type": "stream",
     "text": [
      "kNN time to complete: 2.270190954208374 seconds\n   FN  FP   TN  TP\n0  17  76  206  33\n"
     ]
    },
    {
     "name": "stdout",
     "output_type": "stream",
     "text": [
      "kNN time to complete: 2.3222296237945557 seconds\n   FN  FP   TN  TP\n0  20  71  203  38\n"
     ]
    },
    {
     "name": "stdout",
     "output_type": "stream",
     "text": [
      "kNN time to complete: 2.2301409244537354 seconds\n   FN  FP   TN  TP\n0  16  74  207  35\n"
     ]
    },
    {
     "name": "stdout",
     "output_type": "stream",
     "text": [
      "kNN time to complete: 2.1190199851989746 seconds\n   FN  FP   TN  TP\n0  18  72  205  37\n"
     ]
    },
    {
     "name": "stdout",
     "output_type": "stream",
     "text": [
      "kNN time to complete: 2.170070171356201 seconds\n   FN  FP   TN  TP\n0  15  73  208  36\n         Acc  FN  FP       FPR   TN  TP       TPR     k\n0   0.680723  49  57  0.246753  174  52  0.514851   1.0\n1   0.686747  25  79  0.285199  198  30  0.545455   2.0\n6   0.704819  27  71  0.265918  196  38  0.584615   7.0\n2   0.716867  34  60  0.240964  189  49  0.590361   3.0\n8   0.704819  24  74  0.271062  199  35  0.593220   9.0\n12  0.707831  24  73  0.268382  199  36  0.600000  13.0\n9   0.704819  18  80  0.280702  205  29  0.617021  10.0\n11  0.707831  19  78  0.276596  204  31  0.620000  12.0\n10  0.713855  21  74  0.268116  202  35  0.625000  11.0\n4   0.722892  25  67  0.252830  198  42  0.626866   5.0\n24  0.722892  23  69  0.256506  200  40  0.634921  25.0\n5   0.707831  16  81  0.281250  207  28  0.636364   6.0\n20  0.719880  21  72  0.262774  202  37  0.637931  21.0\n7   0.710843  17  79  0.277193  206  30  0.638298   8.0\n18  0.722892  21  71  0.260073  202  38  0.644068  19.0\n14  0.722892  21  71  0.260073  202  38  0.644068  15.0\n23  0.716867  18  76  0.270463  205  33  0.647059  24.0\n22  0.725904  21  70  0.257353  202  39  0.650000  23.0\n26  0.725904  20  71  0.259124  203  38  0.655172  27.0\n13  0.716867  16  78  0.273684  207  31  0.659574  14.0\n25  0.719880  17  76  0.269504  206  33  0.660000  26.0\n15  0.722892  18  74  0.265233  205  35  0.660377  16.0\n16  0.728916  19  71  0.258182  204  38  0.666667  17.0\n21  0.725904  18  73  0.262590  205  36  0.666667  22.0\n28  0.728916  18  72  0.259928  205  37  0.672727  29.0\n3   0.722892  16  76  0.268551  207  33  0.673469   4.0\n17  0.725904  16  75  0.265957  207  34  0.680000  18.0\n27  0.728916  16  74  0.263345  207  35  0.686275  28.0\n19  0.728916  15  75  0.265018  208  34  0.693878  20.0\n29  0.734940  15  73  0.259786  208  36  0.705882  30.0\n"
     ]
    },
    {
     "data": {
      "image/png": "[encoded data removed]",
      "text/plain": [
       "<Figure size 432x288 with 1 Axes>"
      ]
     },
     "metadata": {},
     "output_type": "display_data"
    },
    {
     "data": {
      "image/png": "[encoded data removed]",
      "text/plain": [
       "<Figure size 432x288 with 1 Axes>"
      ]
     },
     "metadata": {},
     "output_type": "display_data"
    }
   ],
   "source": [
    "pimate_pX_sk = pca(pimate_nX,class_column='diabetes')\n",
    "\n",
    "knn_roc_data_pX = pd.DataFrame(columns = ['k','TP', 'FP', 'TN','FN', 'TPR','FPR','Acc'])\n",
    "\n",
    "for i in np.arange(1,31):\n",
    "    pX_data_kNN = Kens_kNNnew(df_training=pimatr_pX_sk,df_testing=pimate_pX_sk, k=i,class_column='diabetes')\n",
    "    df_errors_types = error_rates(truecol=pX_data_kNN['diabetes'], testcol=pX_data_kNN['kNN_class'])\n",
    "    knn_roc_data_pX = knn_roc_data_pX.append(df_errors_types,\n",
    "                        ignore_index=True, # ignores index labels\n",
    "                        sort=True)\n",
    "    knn_roc_data_pX['k'].iloc[i-1] = i\n",
    "print(knn_roc_data_pX.sort_values(by='TPR'))\n",
    "#def ROC_curve(df_train, df_test):\n",
    "\n",
    "knn_roc_data_sorted_pX = knn_roc_data_pX.sort_values(by='TPR')\n",
    "\n",
    "plt.Figure(figsize=(5,5))\n",
    "plt.xlim(0,1)\n",
    "plt.ylim(0,1)\n",
    "plt.grid()\n",
    "plt.xlabel('False Positive Rate')\n",
    "plt.ylabel('True Positive Rate')\n",
    "plt.title('ROC_curve pX')\n",
    "plt.plot(knn_roc_data_sorted_pX[['FPR']], knn_roc_data_sorted_pX[['TPR']], linewidth= 1)\n",
    "\n",
    "knn_acc_data_pX = knn_roc_data_pX.sort_values(by='k')\n",
    "plt.figure()\n",
    "plt.grid()\n",
    "plt.title('kNN Accuracy pX')\n",
    "plt.plot(knn_acc_data_pX[['k']] ,knn_acc_data_pX[['Acc']])\n",
    "plt.xticks()\n",
    "plt.xlabel('k')\n",
    "plt.ylabel('Accuracy')\n",
    "plt.savefig((os.path.join(outputdir, 'Project 2 knn acc plot pX') + '.png'), dpi=600)\n",
    "\n",
    "\n",
    "knn_roc_data_pX.to_csv('knn_roc_data_pX')\n"
   ]
  },
  {
   "cell_type": "code",
   "execution_count": 172,
   "metadata": {},
   "outputs": [],
   "source": [
    "knn_roc_data_pX.to_csv('knn_roc_data_pX.csv')"
   ]
  },
  {
   "cell_type": "code",
   "execution_count": 173,
   "metadata": {},
   "outputs": [
    {
     "name": "stdout",
     "output_type": "stream",
     "text": [
      "(200, 7)\n(200,)\n[1.0362893]\n[[-0.40963682 -1.16487405  0.03185011  0.01492697 -0.46437769 -0.5892693\n  -0.52814779]]\n"
     ]
    },
    {
     "name": "stdout",
     "output_type": "stream",
     "text": [
      "kNN time to complete: 2.1850976943969727 seconds\n   FN  FP   TN  TP\n0  50  58  173  51\n"
     ]
    },
    {
     "name": "stderr",
     "output_type": "stream",
     "text": [
      "C:\\Program Files\\Python36\\lib\\site-packages\\pandas\\core\\indexing.py:190: SettingWithCopyWarning: \nA value is trying to be set on a copy of a slice from a DataFrame\n\nSee the caveats in the documentation: http://pandas.pydata.org/pandas-docs/stable/indexing.html#indexing-view-versus-copy\n  self._setitem_with_indexer(indexer, value)\n"
     ]
    },
    {
     "name": "stdout",
     "output_type": "stream",
     "text": [
      "kNN time to complete: 2.121034622192383 seconds\n   FN  FP   TN  TP\n0  29  75  194  34\n"
     ]
    },
    {
     "name": "stdout",
     "output_type": "stream",
     "text": [
      "kNN time to complete: 2.107020854949951 seconds\n   FN  FP   TN  TP\n0  45  49  178  60\n"
     ]
    },
    {
     "name": "stdout",
     "output_type": "stream",
     "text": [
      "kNN time to complete: 2.0920071601867676 seconds\n   FN  FP   TN  TP\n0  28  58  195  51\n"
     ]
    },
    {
     "name": "stdout",
     "output_type": "stream",
     "text": [
      "kNN time to complete: 2.0749905109405518 seconds\n   FN  FP   TN  TP\n0  33  48  190  61\n"
     ]
    },
    {
     "name": "stdout",
     "output_type": "stream",
     "text": [
      "kNN time to complete: 2.0459625720977783 seconds\n   FN  FP   TN  TP\n0  19  56  204  53\n"
     ]
    },
    {
     "name": "stdout",
     "output_type": "stream",
     "text": [
      "kNN time to complete: 2.036954402923584 seconds\n   FN  FP   TN  TP\n0  28  43  195  66\n"
     ]
    },
    {
     "name": "stdout",
     "output_type": "stream",
     "text": [
      "kNN time to complete: 2.032949447631836 seconds\n   FN  FP   TN  TP\n0  19  55  204  54\n"
     ]
    },
    {
     "name": "stdout",
     "output_type": "stream",
     "text": [
      "kNN time to complete: 2.0309581756591797 seconds\n   FN  FP   TN  TP\n0  33  40  190  69\n"
     ]
    },
    {
     "name": "stdout",
     "output_type": "stream",
     "text": [
      "kNN time to complete: 2.0259320735931396 seconds\n   FN  FP   TN  TP\n0  21  52  202  57\n"
     ]
    },
    {
     "name": "stdout",
     "output_type": "stream",
     "text": [
      "kNN time to complete: 2.0219521522521973 seconds\n   FN  FP   TN  TP\n0  29  46  194  63\n"
     ]
    },
    {
     "name": "stdout",
     "output_type": "stream",
     "text": [
      "kNN time to complete: 2.006927013397217 seconds\n   FN  FP   TN  TP\n0  20  59  203  50\n"
     ]
    },
    {
     "name": "stdout",
     "output_type": "stream",
     "text": [
      "kNN time to complete: 2.001922369003296 seconds\n   FN  FP   TN  TP\n0  25  51  198  58\n"
     ]
    },
    {
     "name": "stdout",
     "output_type": "stream",
     "text": [
      "kNN time to complete: 1.9969172477722168 seconds\n   FN  FP   TN  TP\n0  14  63  209  46\n"
     ]
    },
    {
     "name": "stdout",
     "output_type": "stream",
     "text": [
      "kNN time to complete: 1.9949147701263428 seconds\n   FN  FP   TN  TP\n0  24  49  199  60\n"
     ]
    },
    {
     "name": "stdout",
     "output_type": "stream",
     "text": [
      "kNN time to complete: 1.998917579650879 seconds\n   FN  FP   TN  TP\n0  16  57  207  52\n"
     ]
    },
    {
     "name": "stdout",
     "output_type": "stream",
     "text": [
      "kNN time to complete: 2.0049359798431396 seconds\n   FN  FP   TN  TP\n0  21  45  202  64\n"
     ]
    },
    {
     "name": "stdout",
     "output_type": "stream",
     "text": [
      "kNN time to complete: 2.0349502563476562 seconds\n   FN  FP   TN  TP\n0  16  53  207  56\n"
     ]
    },
    {
     "name": "stdout",
     "output_type": "stream",
     "text": [
      "kNN time to complete: 2.009929656982422 seconds\n   FN  FP   TN  TP\n0  20  48  203  61\n"
     ]
    },
    {
     "name": "stdout",
     "output_type": "stream",
     "text": [
      "kNN time to complete: 2.008915901184082 seconds\n   FN  FP   TN  TP\n0  14  60  209  49\n"
     ]
    },
    {
     "name": "stdout",
     "output_type": "stream",
     "text": [
      "kNN time to complete: 2.0079269409179688 seconds\n   FN  FP   TN  TP\n0  21  53  202  56\n"
     ]
    },
    {
     "name": "stdout",
     "output_type": "stream",
     "text": [
      "kNN time to complete: 1.9939002990722656 seconds\n   FN  FP   TN  TP\n0  12  63  211  46\n"
     ]
    },
    {
     "name": "stdout",
     "output_type": "stream",
     "text": [
      "kNN time to complete: 1.9919102191925049 seconds\n   FN  FP   TN  TP\n0  21  52  202  57\n"
     ]
    },
    {
     "name": "stdout",
     "output_type": "stream",
     "text": [
      "kNN time to complete: 1.998927116394043 seconds\n   FN  FP   TN  TP\n0  17  56  206  53\n"
     ]
    },
    {
     "name": "stdout",
     "output_type": "stream",
     "text": [
      "kNN time to complete: 1.9969282150268555 seconds\n   FN  FP   TN  TP\n0  19  53  204  56\n"
     ]
    },
    {
     "name": "stdout",
     "output_type": "stream",
     "text": [
      "kNN time to complete: 2.0309581756591797 seconds\n   FN  FP   TN  TP\n0  15  57  208  52\n"
     ]
    },
    {
     "name": "stdout",
     "output_type": "stream",
     "text": [
      "kNN time to complete: 1.983912467956543 seconds\n   FN  FP   TN  TP\n0  20  52  203  57\n"
     ]
    },
    {
     "name": "stdout",
     "output_type": "stream",
     "text": [
      "kNN time to complete: 1.9789104461669922 seconds\n   FN  FP   TN  TP\n0  14  56  209  53\n"
     ]
    },
    {
     "name": "stdout",
     "output_type": "stream",
     "text": [
      "kNN time to complete: 2.0369515419006348 seconds\n   FN  FP   TN  TP\n0  19  52  204  57\n"
     ]
    },
    {
     "name": "stdout",
     "output_type": "stream",
     "text": [
      "kNN time to complete: 1.998918056488037 seconds\n   FN  FP   TN  TP\n0  14  54  209  55\n         Acc  FN  FP       FPR   TN  TP       TPR     k\n0   0.674699  50  58  0.251082  173  51  0.504950   1.0\n1   0.686747  29  75  0.278810  194  34  0.539683   2.0\n2   0.716867  45  49  0.215859  178  60  0.571429   3.0\n3   0.740964  28  58  0.229249  195  51  0.645570   4.0\n4   0.756024  33  48  0.201681  190  61  0.648936   5.0\n8   0.780120  33  40  0.173913  190  69  0.676471   9.0\n10  0.774096  29  46  0.191667  194  63  0.684783  11.0\n12  0.771084  25  51  0.204819  198  58  0.698795  13.0\n6   0.786145  28  43  0.180672  195  66  0.702128   7.0\n11  0.762048  20  59  0.225191  203  50  0.714286  12.0\n14  0.780120  24  49  0.197581  199  60  0.714286  15.0\n20  0.777108  21  53  0.207843  202  56  0.727273  21.0\n22  0.780120  21  52  0.204724  202  57  0.730769  23.0\n9   0.780120  21  52  0.204724  202  57  0.730769  10.0\n5   0.774096  19  56  0.215385  204  53  0.736111   6.0\n7   0.777108  19  55  0.212355  204  54  0.739726   8.0\n26  0.783133  20  52  0.203922  203  57  0.740260  27.0\n24  0.783133  19  53  0.206226  204  56  0.746667  25.0\n28  0.786145  19  52  0.203125  204  57  0.750000  29.0\n16  0.801205  21  45  0.182186  202  64  0.752941  17.0\n18  0.795181  20  48  0.191235  203  61  0.753086  19.0\n23  0.780120  17  56  0.213740  206  53  0.757143  24.0\n15  0.780120  16  57  0.215909  207  52  0.764706  16.0\n13  0.768072  14  63  0.231618  209  46  0.766667  14.0\n25  0.783133  15  57  0.215094  208  52  0.776119  26.0\n17  0.792169  16  53  0.203846  207  56  0.777778  18.0\n19  0.777108  14  60  0.223048  209  49  0.777778  20.0\n27  0.789157  14  56  0.211321  209  53  0.791045  28.0\n21  0.774096  12  63  0.229927  211  46  0.793103  22.0\n29  0.795181  14  54  0.205323  209  55  0.797101  30.0\n"
     ]
    },
    {
     "data": {
      "image/png": "[encoded data removed]",
      "text/plain": [
       "<Figure size 432x288 with 1 Axes>"
      ]
     },
     "metadata": {},
     "output_type": "display_data"
    },
    {
     "data": {
      "image/png": "[encoded data removed]",
      "text/plain": [
       "<Figure size 432x288 with 1 Axes>"
      ]
     },
     "metadata": {},
     "output_type": "display_data"
    }
   ],
   "source": [
    "#pimatr_fX = pd.DataFrame(pimatr_fX)\n",
    "#pimate_fX = pd.DataFrame(pimate_fX)\n",
    "\n",
    "df_pimatr_fX, df_pimate_fX, pimatr_fX, pimatr_fX_sk_target, Wv_fX_tr = sk_LDA(train_df=pimatr_nX,test_df=pimate_nX)\n",
    "\n",
    "\n",
    "knn_roc_data_fX = pd.DataFrame(columns = ['k','TP', 'FP', 'TN','FN', 'TPR','FPR','Acc'])\n",
    "\n",
    "for i in np.arange(1,31):\n",
    "    fX_data_kNN =Kens_kNNnew(df_training=df_pimatr_fX,df_testing=df_pimate_fX, k=i,class_column='diabetes')\n",
    "    df_errors_types = error_rates(truecol=fX_data_kNN['diabetes'], testcol=fX_data_kNN['kNN_class'])\n",
    "    knn_roc_data_fX = knn_roc_data_fX.append(df_errors_types,\n",
    "                        ignore_index=True, # ignores index labels\n",
    "                        sort=True)\n",
    "    knn_roc_data_fX['k'].iloc[i-1] = i\n",
    "print(knn_roc_data_fX.sort_values(by='TPR'))\n",
    "#def ROC_curve(df_train, df_test):\n",
    "\n",
    "knn_roc_data_sorted_fX = knn_roc_data_fX.sort_values(by='TPR')\n",
    "\n",
    "plt.Figure(figsize=(5,5))\n",
    "plt.xlim(0,1)\n",
    "plt.ylim(0,1)\n",
    "plt.grid()\n",
    "plt.xlabel('False Positive Rate')\n",
    "plt.ylabel('True Positive Rate')\n",
    "plt.title('ROC_curve fX')\n",
    "plt.plot(knn_roc_data_sorted_fX[['FPR']], knn_roc_data_sorted_fX[['TPR']], linewidth= 1)\n",
    "\n",
    "knn_acc_data_fX = knn_roc_data_fX.sort_values(by='k')\n",
    "plt.figure()\n",
    "plt.grid()\n",
    "plt.title('kNN Accuracy fX')\n",
    "plt.plot(knn_acc_data_fX[['k']] ,knn_acc_data_fX[['Acc']])\n",
    "plt.xticks()\n",
    "plt.xlabel('k')\n",
    "plt.ylabel('Accuracy')\n",
    "plt.savefig((os.path.join(outputdir, 'Project 2 knn acc plot fX') + '.png'), dpi=600)\n"
   ]
  },
  {
   "cell_type": "code",
   "execution_count": null,
   "metadata": {},
   "outputs": [],
   "source": [
    "knn_roc_data_fX.to_csv('knn_roc_data_fX.csv')\n"
   ]
  },
  {
   "cell_type": "code",
   "execution_count": 258,
   "metadata": {},
   "outputs": [
    {
     "name": "stdout",
     "output_type": "stream",
     "text": [
      "          0         1         2         3         4         5         6\n0  1.399492 -0.077303  0.167098 -0.013190 -0.050304 -0.129258  0.596667\n1 -0.077303  0.909251  0.065553  0.236894  0.051676 -0.008487  0.168071\n2  0.167098  0.065553  1.023365  0.147146  0.073677 -0.226682  0.209820\n3 -0.013190  0.236894  0.147146  1.106380  0.395519  0.097082  0.208363\n4 -0.050304  0.051676  0.073677  0.395519  0.618997  0.244242 -0.118188\n5 -0.129258 -0.008487 -0.226682  0.097082  0.244242  1.372335 -0.124401\n6  0.596667  0.168071  0.209820  0.208363 -0.118188 -0.124401  1.099625\ntime to complete: 0.00900888442993164 seconds\ntime to complete: 0.008008718490600586 seconds\ntime to complete: 0.0050046443939208984 seconds\n   FN  FP   TN  TP       TPR       FPR       Acc\n0  54  32  169  77  0.587786  0.159204  0.740964\n   FN  FP   TN  TP     TPR       FPR      Acc\n0  56  37  167  72  0.5625  0.181373  0.71988\n   FN  FP   TN  TP       TPR       FPR       Acc\n0  48  28  175  81  0.627907  0.137931  0.771084\n          0         1         2         3         4         5         6\n0  1.399492 -0.077303  0.167098 -0.013190 -0.050304 -0.129258  0.596667\n1 -0.077303  0.909251  0.065553  0.236894  0.051676 -0.008487  0.168071\n2  0.167098  0.065553  1.023365  0.147146  0.073677 -0.226682  0.209820\n3 -0.013190  0.236894  0.147146  1.106380  0.395519  0.097082  0.208363\n4 -0.050304  0.051676  0.073677  0.395519  0.618997  0.244242 -0.118188\n5 -0.129258 -0.008487 -0.226682  0.097082  0.244242  1.372335 -0.124401\n6  0.596667  0.168071  0.209820  0.208363 -0.118188 -0.124401  1.099625\n"
     ]
    },
    {
     "name": "stderr",
     "output_type": "stream",
     "text": [
      "C:\\Program Files\\Python36\\lib\\site-packages\\ipykernel_launcher.py:23: RuntimeWarning: Degrees of freedom <= 0 for slice\nC:\\Program Files\\Python36\\lib\\site-packages\\ipykernel_launcher.py:24: RuntimeWarning: Degrees of freedom <= 0 for slice\n"
     ]
    },
    {
     "ename": "AttributeError",
     "evalue": "'str' object has no attribute 'T'",
     "traceback": [
      "\u001b[1;31m---------------------------------------------------------------------------\u001b[0m",
      "\u001b[1;31mAttributeError\u001b[0m                            Traceback (most recent call last)",
      "\u001b[1;32m<ipython-input-258-71d5261a318b>\u001b[0m in \u001b[0;36m<module>\u001b[1;34m\u001b[0m\n\u001b[0;32m     34\u001b[0m \u001b[0mprint\u001b[0m\u001b[1;33m(\u001b[0m\u001b[0mpd\u001b[0m\u001b[1;33m.\u001b[0m\u001b[0mDataFrame\u001b[0m\u001b[1;33m(\u001b[0m\u001b[0mnX_S_class1\u001b[0m\u001b[1;33m)\u001b[0m\u001b[1;33m)\u001b[0m\u001b[1;33m\u001b[0m\u001b[0m\n\u001b[0;32m     35\u001b[0m \u001b[1;33m\u001b[0m\u001b[0m\n\u001b[1;32m---> 36\u001b[1;33m \u001b[0mcase_2_nX\u001b[0m \u001b[1;33m=\u001b[0m \u001b[0mmahalanobisdist2\u001b[0m\u001b[1;33m(\u001b[0m\u001b[0mX\u001b[0m\u001b[1;33m=\u001b[0m\u001b[0mpimate_nX\u001b[0m\u001b[1;33m,\u001b[0m \u001b[0mE1\u001b[0m\u001b[1;33m=\u001b[0m\u001b[0mnX_S_class1\u001b[0m\u001b[1;33m,\u001b[0m \u001b[0mE2\u001b[0m\u001b[1;33m=\u001b[0m\u001b[0mnX_S_class2\u001b[0m\u001b[1;33m,\u001b[0m \u001b[0mmuv1\u001b[0m\u001b[1;33m=\u001b[0m\u001b[0mnX_mu_class1\u001b[0m\u001b[1;33m,\u001b[0m \u001b[0mmuv2\u001b[0m\u001b[1;33m=\u001b[0m\u001b[0mnX_mu_class2\u001b[0m\u001b[1;33m)\u001b[0m\u001b[1;33m\u001b[0m\u001b[0m\n\u001b[0m\u001b[0;32m     37\u001b[0m \u001b[1;33m\u001b[0m\u001b[0m\n\u001b[0;32m     38\u001b[0m \u001b[0mprint\u001b[0m\u001b[1;33m(\u001b[0m\u001b[0mcase_1_nX_errors\u001b[0m\u001b[1;33m)\u001b[0m\u001b[1;33m\u001b[0m\u001b[0m\n",
      "\u001b[1;32m<ipython-input-256-c8070bb51079>\u001b[0m in \u001b[0;36mmahalanobisdist2\u001b[1;34m(X, E1, E2, muv1, muv2)\u001b[0m\n\u001b[0;32m     10\u001b[0m     \u001b[0mcase_2_class\u001b[0m \u001b[1;33m=\u001b[0m \u001b[1;33m[\u001b[0m\u001b[1;33m]\u001b[0m \u001b[1;31m#emtpy data object to add reslts to\u001b[0m\u001b[1;33m\u001b[0m\u001b[0m\n\u001b[0;32m     11\u001b[0m     \u001b[1;32mfor\u001b[0m \u001b[0mirow\u001b[0m \u001b[1;32min\u001b[0m \u001b[0mdf_testing_num\u001b[0m\u001b[1;33m:\u001b[0m\u001b[1;33m\u001b[0m\u001b[0m\n\u001b[1;32m---> 12\u001b[1;33m         \u001b[0mxrow\u001b[0m \u001b[1;33m=\u001b[0m \u001b[0mirow\u001b[0m\u001b[1;33m.\u001b[0m\u001b[0mT\u001b[0m \u001b[1;31m#converts the row vector to a column vector\u001b[0m\u001b[1;33m\u001b[0m\u001b[0m\n\u001b[0m\u001b[0;32m     13\u001b[0m \u001b[1;33m\u001b[0m\u001b[0m\n\u001b[0;32m     14\u001b[0m         \u001b[1;31m# Calculates the mahalanobis distance between each data point\u001b[0m\u001b[1;33m\u001b[0m\u001b[1;33m\u001b[0m\u001b[0m\n",
      "\u001b[1;31mAttributeError\u001b[0m: 'str' object has no attribute 'T'"
     ],
     "output_type": "error"
    }
   ],
   "source": [
    "\n",
    "# Mu\n",
    "nX_mu_class1 = np.mean(pimatr_nX[pimatr_nX['diabetes']== 'Yes'], axis=0)\n",
    "nX_mu_class2 = np.mean(pimatr_nX[pimatr_nX['diabetes']== 'No'], axis=0)\n",
    "\n",
    "pX_mu_class1 = np.mean(pimatr_pX_sk[pimatr_pX_sk['diabetes']== 'Yes'], axis=0)\n",
    "pX_mu_class2 = np.mean(pimatr_pX_sk[pimatr_pX_sk['diabetes']== 'No'], axis=0)\n",
    "\n",
    "fX_mu_class1 = np.mean(df_pimatr_fX[df_pimatr_fX['diabetes']== 'Yes'], axis=0)\n",
    "fX_mu_class2 = np.mean(df_pimatr_fX[df_pimatr_fX['diabetes']== 'No'], axis=0)\n",
    "\n",
    "# Covarience matrix\n",
    "#df_testing_num = pd.DataFrame(pimatr_nX.select_dtypes(include=np.number))\n",
    "\n",
    "nX_S_class1 = covnum(pd.DataFrame(pimatr_nX[pimatr_nX['diabetes']== 'Yes']))\n",
    "nX_S_class2 = covnum(pd.DataFrame(pimatr_nX[pimatr_nX['diabetes']== 'No']))\n",
    "\n",
    "print(nX_S_class1)\n",
    "\n",
    "pX_S_class1 = np.cov(pd.DataFrame(pimatr_pX_sk.select_dtypes(include=np.number))[pimatr_pX_sk['diabetes']== 'Yes'])\n",
    "pX_S_class2 = np.cov(pd.DataFrame(pimatr_pX_sk.select_dtypes(include=np.number))[pimatr_pX_sk['diabetes']== 'No'])\n",
    "\n",
    "fX_S_class1 = np.cov(pd.DataFrame(df_pimatr_fX.select_dtypes(include=np.number))[df_pimatr_fX['diabetes']== 'Yes'])\n",
    "fX_S_class2 = np.cov(pd.DataFrame(df_pimatr_fX.select_dtypes(include=np.number))[df_pimatr_fX['diabetes']== 'No'])\n",
    "\n",
    "case_1_nX = euclidist(X=pimate_nX, muv1=nX_mu_class1, muv2=nX_mu_class2,class_column='diabetes')\n",
    "case_1_pX = euclidist(X=pimate_pX_sk, muv1=pX_mu_class1, muv2=pX_mu_class2,class_column='diabetes')\n",
    "case_1_fX = euclidist(X=df_pimate_fX, muv1=fX_mu_class1, muv2=fX_mu_class2,class_column='diabetes')\n",
    "\n",
    "case_1_nX_errors = error_rates(truecol=case_1_nX['diabetes'], testcol=case_1_nX['case_1_class'])\n",
    "case_1_pX_errors = error_rates(truecol=case_1_pX['diabetes'], testcol=case_1_pX['case_1_class'])\n",
    "case_1_fX_errors = error_rates(truecol=case_1_fX['diabetes'], testcol=case_1_fX['case_1_class'])\n",
    "\n",
    "print(pd.DataFrame(nX_S_class1))\n",
    "\n",
    "case_2_nX = mahalanobisdist2(X=pimate_nX, E1=nX_S_class1, E2=nX_S_class2, muv1=nX_mu_class1, muv2=nX_mu_class2)\n",
    "\n",
    "print(case_1_nX_errors)\n",
    "print(case_1_pX_errors)\n",
    "print(case_1_fX_errors)\n",
    "\n",
    "\n",
    "# change this here so i can change it back later...\n",
    "#dict ={0: 'Yes',1:'No'}\n",
    "\n",
    "#case_1_nX = case_1_nX..replace(dict)\n",
    "\n",
    "#print(case_1_pX)\n"
   ]
  },
  {
   "cell_type": "code",
   "execution_count": 176,
   "metadata": {},
   "outputs": [
    {
     "ename": "SyntaxError",
     "evalue": "invalid syntax (<ipython-input-176-c84d7c53f2a4>, line 21)",
     "traceback": [
      "\u001b[1;36m  File \u001b[1;32m\"<ipython-input-176-c84d7c53f2a4>\"\u001b[1;36m, line \u001b[1;32m21\u001b[0m\n\u001b[1;33m    plt.plot(DP[0:5, 0], DP[0:5, 1], 'bs')\u001b[0m\n\u001b[1;37m      ^\u001b[0m\n\u001b[1;31mSyntaxError\u001b[0m\u001b[1;31m:\u001b[0m invalid syntax\n"
     ],
     "output_type": "error"
    }
   ],
   "source": [
    "import matplotlib.pyplot as plt\n",
    "import numpy as np\n",
    "print(Wv)\n",
    "\n",
    "slope = Wv[:,1]/Wv[:,0]\n",
    "\n",
    "num_cols = pimatr_nX.columns[pimatr_nX.dtypes.apply(lambda c: np.issubdtype(c, np.number))]\n",
    "nX_num = pimatr_nX[num_cols]\n",
    "\n",
    "\n",
    "#np.dot(nX_num, Wv)\n",
    "\n",
    "# Plot point\n",
    "plt.plot(nX_num.iloc[:, :], nX_num.iloc[:, :], 'bo')\n",
    "plt.plot(nX_num.iloc[5:, :], nX_num.iloc[5:, :], 'ro')\n",
    "plt.plot([-1, 10], [-slope, 10*slope], color='k', linestyle='-', linewidth=1)\n",
    "\n",
    "DP = np.multiply(np.transpose(np.dot(nX_num, Wv)), (np.divide(Wv , (np.dot(Wv,Wv)))\n",
    "\n",
    "# Plot projected points\n",
    "plt.plot(DP[0:5, 0], DP[0:5, 1], 'bs')\n",
    "plt.plot(DP[5:, 0], DP[5:, 1], 'rs')\n",
    "plt.gca().set_aspect('equal', adjustable='box')\n",
    "plt.draw()"
   ]
  },
  {
   "cell_type": "code",
   "execution_count": 177,
   "metadata": {},
   "outputs": [
    {
     "name": "stdout",
     "output_type": "stream",
     "text": [
      "kNN time to complete: 2.4083213806152344 seconds\n      npreg       glu        bp      skin       bmi       ped       age  \\\n0  0.723679  0.760733  0.064624  0.494645  0.210961  0.542444  1.634094   \n1 -0.765373 -1.233698 -0.459354 -0.018384 -0.933790 -0.358176 -0.101389   \n2 -0.765373 -1.107067 -0.459354 -0.531413 -0.688486 -0.958588 -1.014801   \n3 -0.169752 -1.455301 -1.856628  0.238131 -0.214232 -0.694276 -0.558095   \n4 -0.467562  2.311957 -0.110035  1.349694 -0.296000 -0.987956  1.908117   \n5  0.425869  1.330570  0.064624 -0.873432 -1.064618  0.411919  1.725435   \n6 -1.063183 -0.188996  1.112579  1.520703  2.206099  0.294447 -0.101389   \n7 -0.765373 -0.663861 -3.603220  0.751160  1.797259 -0.906379  0.081294   \n8 -0.169752  0.064265  1.461898  1.007674  1.143116  0.793703 -0.466753   \n9  1.617110 -0.157338  0.763261  0.494645 -0.541304 -0.645330 -0.284071   \n\n  diabetes kNN_class  \n0      Yes       Yes  \n1       No        No  \n2       No        No  \n3      Yes        No  \n4      Yes       Yes  \n5      Yes        No  \n6      Yes        No  \n7       No        No  \n8       No        No  \n9      Yes        No  \n"
     ]
    }
   ],
   "source": [
    "####\n",
    "def Kens_kNN_old(trX, X, k, column_name):\n",
    "    start = time.time()\n",
    "\n",
    "    kNNlist = []\n",
    "\n",
    "    def rowply(row):\n",
    "        Xrow = pd.DataFrame(row.iloc[:9])\n",
    "        #print(Xrow)\n",
    "        trXnum = pd.DataFrame(trX.iloc[:, :9])\n",
    "\n",
    "        # *** MAKE SURE TO ALIGN DATAFRAMES SO THEY BROADCAST PROPERLY!!!!! such as: Xrow.T ****\n",
    "        # 2 hours or more to figure that out!!\n",
    "\n",
    "        Xdist = pd.DataFrame(np.sqrt(np.sum(np.power(np.subtract(trXnum, Xrow.T), 2), axis=1)))\n",
    "        Xdist.rename(columns={0: 'dist'}, inplace=True)\n",
    "        trdataX = pd.concat([Xdist, trX[column_name]], axis=1)\n",
    "        test1 = trdataX.nsmallest(n=k, columns='dist', keep='first')\n",
    "\n",
    "        test2 = test1.groupby([column_name]).size().reset_index()\n",
    "\n",
    "        test2.rename(columns={0: 'count'}, inplace=True)\n",
    "\n",
    "        test3 = test2.nlargest(n=1, columns='count', keep='first')\n",
    "\n",
    "        kNNlist.append(test3[column_name].values)\n",
    "\n",
    "        return\n",
    "\n",
    "    X.apply(rowply, axis=1)\n",
    "\n",
    "    kNNclasslistapp = pd.DataFrame(np.concatenate(kNNlist),index=X.index)\n",
    "    kNNclasslistapp.rename(columns={0: 'kNN_class'}, inplace=True)\n",
    "    Xout = pd.concat([X, kNNclasslistapp], axis=1)\n",
    "    end = time.time()\n",
    "    #print('kNN time to complete:', end - start, 'seconds')\n",
    "    return Xout\n",
    "\n",
    "\n",
    "def Kens_kNN(trX, X, k):\n",
    "    start = time.time()\n",
    "\n",
    "    kNNlist = []\n",
    "    def rowply(row):\n",
    "        Xrow = pd.DataFrame(row.iloc[:6]) #selects a row\n",
    "        trXnum = pd.DataFrame(trX.iloc[:, :6]) # selects all training data\n",
    "        # *** MAKE SURE TO ALIGN DATAFRAMES SO THEY BROADCAST PROPERLY!!!!! such as: Xrow.T ****\n",
    "        # 2 hours or more to figure that out!!\n",
    "        \n",
    "        Xdist = pd.DataFrame(np.sqrt(np.sum(np.power(np.subtract(trXnum, Xrow.T),2),axis=1)))\n",
    "        Xdist.rename(columns= {0:'dist'}, inplace=True)\n",
    "        trdataX = pd.concat([Xdist,trX['diabetes']], axis=1)        \n",
    "        test1 = trdataX.nsmallest(n=k, columns='dist', keep= 'first')\n",
    "        \n",
    "        test2 = test1.groupby('diabetes').size().reset_index()\n",
    "\n",
    "        test2.rename(columns={0:'count'},inplace=True)\n",
    "\n",
    "        test3 = test2.nlargest(n=1, columns='count', keep='first')\n",
    "        \n",
    "        kNNlist.append(test3['diabetes'].values)\n",
    "             \n",
    "        \n",
    "        return\n",
    "    \n",
    "    X.apply(rowply, axis=1)\n",
    "   \n",
    "    kNNclasslistapp = pd.DataFrame(np.concatenate(kNNlist))\n",
    "    kNNclasslistapp.rename(columns={0:'kNN_class'},inplace=True)\n",
    "    Xout =  pd.concat([X,kNNclasslistapp], axis=1)\n",
    "    end = time.time()\n",
    "    print ('kNN time to complete:', end - start, 'seconds')\n",
    "    return Xout\n",
    "\n",
    "\n",
    "    \n",
    "\n",
    "nX_data_kNN = Kens_kNN(pimatr_nX,pimate_nX, k=20)\n",
    "                \n",
    "    \n",
    "print (nX_data_kNN.head(10))\n"
   ]
  },
  {
   "cell_type": "code",
   "execution_count": 178,
   "metadata": {},
   "outputs": [
    {
     "ename": "NameError",
     "evalue": "name 'Kens_kNN2' is not defined",
     "traceback": [
      "\u001b[1;31m---------------------------------------------------------------------------\u001b[0m",
      "\u001b[1;31mNameError\u001b[0m                                 Traceback (most recent call last)",
      "\u001b[1;32m<ipython-input-178-3bc3d52a4010>\u001b[0m in \u001b[0;36m<module>\u001b[1;34m\u001b[0m\n\u001b[0;32m     41\u001b[0m \u001b[1;33m\u001b[0m\u001b[0m\n\u001b[0;32m     42\u001b[0m \u001b[1;32mfor\u001b[0m \u001b[0mi\u001b[0m \u001b[1;32min\u001b[0m \u001b[0mnp\u001b[0m\u001b[1;33m.\u001b[0m\u001b[0marange\u001b[0m\u001b[1;33m(\u001b[0m\u001b[1;36m1\u001b[0m\u001b[1;33m,\u001b[0m\u001b[1;36m15\u001b[0m\u001b[1;33m)\u001b[0m\u001b[1;33m:\u001b[0m\u001b[1;33m\u001b[0m\u001b[0m\n\u001b[1;32m---> 43\u001b[1;33m     \u001b[0mnX_data_kNN\u001b[0m \u001b[1;33m=\u001b[0m \u001b[0mKens_kNN2\u001b[0m\u001b[1;33m(\u001b[0m\u001b[0mpimatr_nX\u001b[0m\u001b[1;33m,\u001b[0m\u001b[0mpimate_nX\u001b[0m\u001b[1;33m,\u001b[0m \u001b[0mk\u001b[0m\u001b[1;33m=\u001b[0m\u001b[0mi\u001b[0m\u001b[1;33m)\u001b[0m\u001b[1;33m\u001b[0m\u001b[0m\n\u001b[0m\u001b[0;32m     44\u001b[0m     \u001b[0mdf_errors_types\u001b[0m \u001b[1;33m=\u001b[0m \u001b[0merror_rates\u001b[0m\u001b[1;33m(\u001b[0m\u001b[0mtruecol\u001b[0m\u001b[1;33m=\u001b[0m\u001b[0mnX_data_kNN\u001b[0m\u001b[1;33m[\u001b[0m\u001b[1;34m'diabetes'\u001b[0m\u001b[1;33m]\u001b[0m\u001b[1;33m,\u001b[0m \u001b[0mtestcol\u001b[0m\u001b[1;33m=\u001b[0m\u001b[0mnX_data_kNN\u001b[0m\u001b[1;33m[\u001b[0m\u001b[1;34m'kNN_class'\u001b[0m\u001b[1;33m]\u001b[0m\u001b[1;33m)\u001b[0m\u001b[1;33m\u001b[0m\u001b[0m\n\u001b[0;32m     45\u001b[0m     \u001b[0mpd\u001b[0m\u001b[1;33m.\u001b[0m\u001b[0mconcat\u001b[0m\u001b[1;33m(\u001b[0m\u001b[0mknn_roc_data\u001b[0m\u001b[1;33m,\u001b[0m\u001b[0mdf_errors_types\u001b[0m\u001b[1;33m)\u001b[0m\u001b[1;33m\u001b[0m\u001b[0m\n",
      "\u001b[1;31mNameError\u001b[0m: name 'Kens_kNN2' is not defined"
     ],
     "output_type": "error"
    }
   ],
   "source": [
    "\n",
    "\n",
    "def error_rates_old(truecol, testcol):\n",
    "    dict = {'Yes': 0,'No':1}\n",
    "    test = np.array(testcol.replace(dict))\n",
    "    np.reshape(test,(-1,1))\n",
    "    \n",
    "    truth = np.array(truecol.replace(dict))\n",
    "    truth.reshape(-1,1)\n",
    "    \n",
    "    #table = (truth == 1) & (test == 0)\n",
    "   # print(table)\n",
    "\n",
    "\n",
    "    #discriminator\n",
    "    conditions = [(truth == 0) & (test == 0),\n",
    "                  (truth == 0) & (test == 1),\n",
    "                  (truth == 1) & (test == 1),\n",
    "                  (truth == 1) & (test == 0)] \n",
    "    choices = ['TP', 'FP', 'TN','FN']\n",
    "    error_def = np.select(conditions,choices)\n",
    "    \n",
    "    #'True Positive Rate (TPR) or Sensitivity = TP / (TP + FN)'\n",
    "    #'True Negative Rate (TNR) or Specificity = TN / (FP + TN)'\n",
    "    #rate = error_def.groupby('error2', as_index=False).size()\n",
    "\n",
    "    #the pandas groupby function was used to get the total counts of the errors for each class\n",
    "    labels,count = np.unique(error_def, return_counts=True)\n",
    "    df_rates = pd.DataFrame(count,index=labels)\n",
    "    df_rates_t = df_rates.T\n",
    "    \n",
    "    print(df_rates_t)\n",
    "    df_rates_t['TPR'] = (df_rates_t['TP'])/(df_rates_t['TP'] + df_rates_t['FN'])\n",
    "    df_rates_t['TNR']  = (df_rates_t['TN'])/(df_rates_t['FP'] + df_rates_t['TN'])\n",
    "    \n",
    "    #print(df_rates_t)\n",
    "\n",
    "    return df_rates_t\n",
    "\n",
    "#knn_roc_data = pd.DataFrame(columns=('TP', 'FP', 'TN','FN'))\n",
    "\n",
    "for i in np.arange(1,15):\n",
    "    nX_data_kNN = Kens_kNN2(pimatr_nX,pimate_nX, k=i)\n",
    "    df_errors_types = error_rates(truecol=nX_data_kNN['diabetes'], testcol=nX_data_kNN['kNN_class'])\n",
    "    pd.concat(knn_roc_data,df_errors_types)\n",
    "print(knn_roc_data)\n",
    "#def ROC_curve(df_train, df_test):\n",
    " "
   ]
  },
  {
   "cell_type": "code",
   "execution_count": 179,
   "metadata": {},
   "outputs": [
    {
     "ename": "NameError",
     "evalue": "name 'trS0' is not defined",
     "traceback": [
      "\u001b[1;31m---------------------------------------------------------------------------\u001b[0m",
      "\u001b[1;31mNameError\u001b[0m                                 Traceback (most recent call last)",
      "\u001b[1;32m<ipython-input-179-899aa1262717>\u001b[0m in \u001b[0;36m<module>\u001b[1;34m\u001b[0m\n\u001b[1;32m----> 1\u001b[1;33m \u001b[0meigvalsclass0\u001b[0m\u001b[1;33m,\u001b[0m \u001b[0meigvecsclass0\u001b[0m \u001b[1;33m=\u001b[0m \u001b[0mnp\u001b[0m\u001b[1;33m.\u001b[0m\u001b[0mlinalg\u001b[0m\u001b[1;33m.\u001b[0m\u001b[0meig\u001b[0m\u001b[1;33m(\u001b[0m\u001b[0mtrS0\u001b[0m\u001b[1;33m)\u001b[0m\u001b[1;33m\u001b[0m\u001b[0m\n\u001b[0m\u001b[0;32m      2\u001b[0m \u001b[0meigvalsclass1\u001b[0m\u001b[1;33m,\u001b[0m \u001b[0meigvecsclass1\u001b[0m \u001b[1;33m=\u001b[0m \u001b[0mnp\u001b[0m\u001b[1;33m.\u001b[0m\u001b[0mlinalg\u001b[0m\u001b[1;33m.\u001b[0m\u001b[0meig\u001b[0m\u001b[1;33m(\u001b[0m\u001b[0mtrS1\u001b[0m\u001b[1;33m)\u001b[0m\u001b[1;33m\u001b[0m\u001b[0m\n\u001b[0;32m      3\u001b[0m \u001b[1;33m\u001b[0m\u001b[0m\n\u001b[0;32m      4\u001b[0m \u001b[0mpd\u001b[0m\u001b[1;33m.\u001b[0m\u001b[0mDataFrame\u001b[0m\u001b[1;33m(\u001b[0m\u001b[0meigvalsclass0\u001b[0m\u001b[1;33m)\u001b[0m\u001b[1;33m\u001b[0m\u001b[0m\n\u001b[0;32m      5\u001b[0m \u001b[0mpd\u001b[0m\u001b[1;33m.\u001b[0m\u001b[0mDataFrame\u001b[0m\u001b[1;33m(\u001b[0m\u001b[0meigvecsclass0\u001b[0m\u001b[1;33m)\u001b[0m\u001b[1;33m\u001b[0m\u001b[0m\n",
      "\u001b[1;31mNameError\u001b[0m: name 'trS0' is not defined"
     ],
     "output_type": "error"
    }
   ],
   "source": [
    "eigvalsclass0, eigvecsclass0 = np.linalg.eig(trS0)\n",
    "eigvalsclass1, eigvecsclass1 = np.linalg.eig(trS1)\n",
    "\n",
    "pd.DataFrame(eigvalsclass0)\n",
    "pd.DataFrame(eigvecsclass0)\n",
    "\n",
    "eigpairsclass0 = [(np.abs(eigvalsclass0[i]), eigvecsclass0[:,i]) for i in range(len(eigvalsclass0))]\n",
    "eigpairsclass1 = [(np.abs(eigvalsclass1[i]), eigvecsclass1[:,i]) for i in range(len(eigvalsclass1))]\n",
    "\n",
    "eigpairsclass0.sort(key=lambda x: x[0], reverse=True)\n",
    "eigpairsclass1.sort(key=lambda x: x[0], reverse=True)\n",
    "\n",
    "pd.DataFrame(eigpairsclass0)\n",
    "pd.DataFrame(eigpairsclass1)\n",
    "\n",
    "matrixWclass0 = np.hstack((eigpairsclass0[0][1].reshape(7,1),\n",
    "                      eigpairsclass0[1][1].reshape(7,1)))\n",
    "\n",
    "\n",
    "matrixWclass1 = np.hstack((eigpairsclass1[0][1].reshape(7,1),\n",
    "                      eigpairsclass1[1][1].reshape(7,1)))\n",
    "\n",
    "pd.DataFrame(matrixWclass0)\n",
    "pd.DataFrame(matrixWclass1)\n",
    "\n",
    "\n",
    "\n",
    "def errorchk(X):\n",
    "    conditions = (X['diabetes'] == X['kNN_class'], X['diabetes'] != X['kNN_class'])\n",
    "    choices = ('correct', 'error')\n",
    "    X['error1'] = np.select(conditions,choices)\n",
    "    print(X.groupby('error1').size().reset_index())\n",
    "    return X\n",
    "\n",
    "errorchk(nX_data_kNN)\n"
   ]
  },
  {
   "cell_type": "code",
   "execution_count": 184,
   "metadata": {},
   "outputs": [
    {
     "name": "stdout",
     "output_type": "stream",
     "text": [
      "Normalized Mean\n"
     ]
    },
    {
     "data": {
      "text/html": [
       "<div>\n",
       "<style scoped>\n",
       "    .dataframe tbody tr th:only-of-type {\n",
       "        vertical-align: middle;\n",
       "    }\n",
       "\n",
       "    .dataframe tbody tr th {\n",
       "        vertical-align: top;\n",
       "    }\n",
       "\n",
       "    .dataframe thead th {\n",
       "        text-align: right;\n",
       "    }\n",
       "</style>\n",
       "<table border=\"1\" class=\"dataframe\">\n",
       "  <thead>\n",
       "    <tr style=\"text-align: right;\">\n",
       "      <th></th>\n",
       "      <th>0</th>\n",
       "      <th>1</th>\n",
       "      <th>2</th>\n",
       "      <th>3</th>\n",
       "      <th>4</th>\n",
       "      <th>5</th>\n",
       "      <th>6</th>\n",
       "      <th>7</th>\n",
       "      <th>8</th>\n",
       "      <th>9</th>\n",
       "      <th>...</th>\n",
       "      <th>466</th>\n",
       "      <th>467</th>\n",
       "      <th>468</th>\n",
       "      <th>469</th>\n",
       "      <th>470</th>\n",
       "      <th>471</th>\n",
       "      <th>472</th>\n",
       "      <th>473</th>\n",
       "      <th>474</th>\n",
       "      <th>475</th>\n",
       "    </tr>\n",
       "  </thead>\n",
       "  <tbody>\n",
       "    <tr>\n",
       "      <th>0</th>\n",
       "      <td>0.002092</td>\n",
       "      <td>0.004606</td>\n",
       "      <td>-0.000225</td>\n",
       "      <td>0.000663</td>\n",
       "      <td>-0.002415</td>\n",
       "      <td>-0.001990</td>\n",
       "      <td>0.004282</td>\n",
       "      <td>0.000872</td>\n",
       "      <td>-0.001749</td>\n",
       "      <td>0.000848</td>\n",
       "      <td>...</td>\n",
       "      <td>0.002073</td>\n",
       "      <td>-0.000145</td>\n",
       "      <td>0.002037</td>\n",
       "      <td>0.002702</td>\n",
       "      <td>0.002012</td>\n",
       "      <td>-0.001656</td>\n",
       "      <td>-0.000563</td>\n",
       "      <td>0.000566</td>\n",
       "      <td>0.000550</td>\n",
       "      <td>0.002599</td>\n",
       "    </tr>\n",
       "    <tr>\n",
       "      <th>1</th>\n",
       "      <td>0.005950</td>\n",
       "      <td>0.013097</td>\n",
       "      <td>-0.000641</td>\n",
       "      <td>0.001885</td>\n",
       "      <td>-0.006867</td>\n",
       "      <td>-0.005659</td>\n",
       "      <td>0.012178</td>\n",
       "      <td>0.002480</td>\n",
       "      <td>-0.004973</td>\n",
       "      <td>0.002411</td>\n",
       "      <td>...</td>\n",
       "      <td>0.005896</td>\n",
       "      <td>-0.000414</td>\n",
       "      <td>0.005794</td>\n",
       "      <td>0.007684</td>\n",
       "      <td>0.005721</td>\n",
       "      <td>-0.004710</td>\n",
       "      <td>-0.001601</td>\n",
       "      <td>0.001610</td>\n",
       "      <td>0.001563</td>\n",
       "      <td>0.007390</td>\n",
       "    </tr>\n",
       "    <tr>\n",
       "      <th>2</th>\n",
       "      <td>-0.000163</td>\n",
       "      <td>-0.000358</td>\n",
       "      <td>0.000018</td>\n",
       "      <td>-0.000052</td>\n",
       "      <td>0.000188</td>\n",
       "      <td>0.000155</td>\n",
       "      <td>-0.000333</td>\n",
       "      <td>-0.000068</td>\n",
       "      <td>0.000136</td>\n",
       "      <td>-0.000066</td>\n",
       "      <td>...</td>\n",
       "      <td>-0.000161</td>\n",
       "      <td>0.000011</td>\n",
       "      <td>-0.000158</td>\n",
       "      <td>-0.000210</td>\n",
       "      <td>-0.000156</td>\n",
       "      <td>0.000129</td>\n",
       "      <td>0.000044</td>\n",
       "      <td>-0.000044</td>\n",
       "      <td>-0.000043</td>\n",
       "      <td>-0.000202</td>\n",
       "    </tr>\n",
       "    <tr>\n",
       "      <th>3</th>\n",
       "      <td>-0.000076</td>\n",
       "      <td>-0.000168</td>\n",
       "      <td>0.000008</td>\n",
       "      <td>-0.000024</td>\n",
       "      <td>0.000088</td>\n",
       "      <td>0.000073</td>\n",
       "      <td>-0.000156</td>\n",
       "      <td>-0.000032</td>\n",
       "      <td>0.000064</td>\n",
       "      <td>-0.000031</td>\n",
       "      <td>...</td>\n",
       "      <td>-0.000076</td>\n",
       "      <td>0.000005</td>\n",
       "      <td>-0.000074</td>\n",
       "      <td>-0.000098</td>\n",
       "      <td>-0.000073</td>\n",
       "      <td>0.000060</td>\n",
       "      <td>0.000021</td>\n",
       "      <td>-0.000021</td>\n",
       "      <td>-0.000020</td>\n",
       "      <td>-0.000095</td>\n",
       "    </tr>\n",
       "    <tr>\n",
       "      <th>4</th>\n",
       "      <td>0.002372</td>\n",
       "      <td>0.005221</td>\n",
       "      <td>-0.000255</td>\n",
       "      <td>0.000751</td>\n",
       "      <td>-0.002738</td>\n",
       "      <td>-0.002256</td>\n",
       "      <td>0.004855</td>\n",
       "      <td>0.000989</td>\n",
       "      <td>-0.001982</td>\n",
       "      <td>0.000961</td>\n",
       "      <td>...</td>\n",
       "      <td>0.002350</td>\n",
       "      <td>-0.000165</td>\n",
       "      <td>0.002310</td>\n",
       "      <td>0.003063</td>\n",
       "      <td>0.002281</td>\n",
       "      <td>-0.001878</td>\n",
       "      <td>-0.000638</td>\n",
       "      <td>0.000642</td>\n",
       "      <td>0.000623</td>\n",
       "      <td>0.002946</td>\n",
       "    </tr>\n",
       "    <tr>\n",
       "      <th>5</th>\n",
       "      <td>0.003010</td>\n",
       "      <td>0.006625</td>\n",
       "      <td>-0.000324</td>\n",
       "      <td>0.000954</td>\n",
       "      <td>-0.003474</td>\n",
       "      <td>-0.002863</td>\n",
       "      <td>0.006160</td>\n",
       "      <td>0.001255</td>\n",
       "      <td>-0.002516</td>\n",
       "      <td>0.001220</td>\n",
       "      <td>...</td>\n",
       "      <td>0.002983</td>\n",
       "      <td>-0.000209</td>\n",
       "      <td>0.002931</td>\n",
       "      <td>0.003887</td>\n",
       "      <td>0.002894</td>\n",
       "      <td>-0.002383</td>\n",
       "      <td>-0.000810</td>\n",
       "      <td>0.000814</td>\n",
       "      <td>0.000791</td>\n",
       "      <td>0.003738</td>\n",
       "    </tr>\n",
       "    <tr>\n",
       "      <th>6</th>\n",
       "      <td>0.002697</td>\n",
       "      <td>0.005938</td>\n",
       "      <td>-0.000291</td>\n",
       "      <td>0.000855</td>\n",
       "      <td>-0.003114</td>\n",
       "      <td>-0.002566</td>\n",
       "      <td>0.005521</td>\n",
       "      <td>0.001125</td>\n",
       "      <td>-0.002255</td>\n",
       "      <td>0.001093</td>\n",
       "      <td>...</td>\n",
       "      <td>0.002673</td>\n",
       "      <td>-0.000188</td>\n",
       "      <td>0.002627</td>\n",
       "      <td>0.003484</td>\n",
       "      <td>0.002594</td>\n",
       "      <td>-0.002135</td>\n",
       "      <td>-0.000726</td>\n",
       "      <td>0.000730</td>\n",
       "      <td>0.000709</td>\n",
       "      <td>0.003350</td>\n",
       "    </tr>\n",
       "  </tbody>\n",
       "</table>\n",
       "<p>7 rows × 476 columns</p>\n",
       "</div>"
      ],
      "text/plain": [
       "<div>\n",
       "<style scoped>\n",
       "    .dataframe tbody tr th:only-of-type {\n",
       "        vertical-align: middle;\n",
       "    }\n",
       "\n",
       "    .dataframe tbody tr th {\n",
       "        vertical-align: top;\n",
       "    }\n",
       "\n",
       "    .dataframe thead th {\n",
       "        text-align: right;\n",
       "    }\n",
       "</style>\n",
       "<table border=\"1\" class=\"dataframe\">\n",
       "  <thead>\n",
       "    <tr style=\"text-align: right;\">\n",
       "      <th></th>\n",
       "      <th>0</th>\n",
       "      <th>1</th>\n",
       "      <th>2</th>\n",
       "      <th>3</th>\n",
       "      <th>4</th>\n",
       "      <th>5</th>\n",
       "      <th>6</th>\n",
       "      <th>7</th>\n",
       "      <th>8</th>\n",
       "      <th>9</th>\n",
       "      <th>...</th>\n",
       "      <th>466</th>\n",
       "      <th>467</th>\n",
       "      <th>468</th>\n",
       "      <th>469</th>\n",
       "      <th>470</th>\n",
       "      <th>471</th>\n",
       "      <th>472</th>\n",
       "      <th>473</th>\n",
       "      <th>474</th>\n",
       "      <th>475</th>\n",
       "    </tr>\n",
       "  </thead>\n",
       "  <tbody>\n",
       "    <tr>\n",
       "      <th>0</th>\n",
       "      <td>0.002092</td>\n",
       "      <td>0.004606</td>\n",
       "      <td>-0.000225</td>\n",
       "      <td>0.000663</td>\n",
       "      <td>-0.002415</td>\n",
       "      <td>-0.001990</td>\n",
       "      <td>0.004282</td>\n",
       "      <td>0.000872</td>\n",
       "      <td>-0.001749</td>\n",
       "      <td>0.000848</td>\n",
       "      <td>...</td>\n",
       "      <td>0.002073</td>\n",
       "      <td>-0.000145</td>\n",
       "      <td>0.002037</td>\n",
       "      <td>0.002702</td>\n",
       "      <td>0.002012</td>\n",
       "      <td>-0.001656</td>\n",
       "      <td>-0.000563</td>\n",
       "      <td>0.000566</td>\n",
       "      <td>0.000550</td>\n",
       "      <td>0.002599</td>\n",
       "    </tr>\n",
       "    <tr>\n",
       "      <th>1</th>\n",
       "      <td>0.005950</td>\n",
       "      <td>0.013097</td>\n",
       "      <td>-0.000641</td>\n",
       "      <td>0.001885</td>\n",
       "      <td>-0.006867</td>\n",
       "      <td>-0.005659</td>\n",
       "      <td>0.012178</td>\n",
       "      <td>0.002480</td>\n",
       "      <td>-0.004973</td>\n",
       "      <td>0.002411</td>\n",
       "      <td>...</td>\n",
       "      <td>0.005896</td>\n",
       "      <td>-0.000414</td>\n",
       "      <td>0.005794</td>\n",
       "      <td>0.007684</td>\n",
       "      <td>0.005721</td>\n",
       "      <td>-0.004710</td>\n",
       "      <td>-0.001601</td>\n",
       "      <td>0.001610</td>\n",
       "      <td>0.001563</td>\n",
       "      <td>0.007390</td>\n",
       "    </tr>\n",
       "    <tr>\n",
       "      <th>2</th>\n",
       "      <td>-0.000163</td>\n",
       "      <td>-0.000358</td>\n",
       "      <td>0.000018</td>\n",
       "      <td>-0.000052</td>\n",
       "      <td>0.000188</td>\n",
       "      <td>0.000155</td>\n",
       "      <td>-0.000333</td>\n",
       "      <td>-0.000068</td>\n",
       "      <td>0.000136</td>\n",
       "      <td>-0.000066</td>\n",
       "      <td>...</td>\n",
       "      <td>-0.000161</td>\n",
       "      <td>0.000011</td>\n",
       "      <td>-0.000158</td>\n",
       "      <td>-0.000210</td>\n",
       "      <td>-0.000156</td>\n",
       "      <td>0.000129</td>\n",
       "      <td>0.000044</td>\n",
       "      <td>-0.000044</td>\n",
       "      <td>-0.000043</td>\n",
       "      <td>-0.000202</td>\n",
       "    </tr>\n",
       "    <tr>\n",
       "      <th>3</th>\n",
       "      <td>-0.000076</td>\n",
       "      <td>-0.000168</td>\n",
       "      <td>0.000008</td>\n",
       "      <td>-0.000024</td>\n",
       "      <td>0.000088</td>\n",
       "      <td>0.000073</td>\n",
       "      <td>-0.000156</td>\n",
       "      <td>-0.000032</td>\n",
       "      <td>0.000064</td>\n",
       "      <td>-0.000031</td>\n",
       "      <td>...</td>\n",
       "      <td>-0.000076</td>\n",
       "      <td>0.000005</td>\n",
       "      <td>-0.000074</td>\n",
       "      <td>-0.000098</td>\n",
       "      <td>-0.000073</td>\n",
       "      <td>0.000060</td>\n",
       "      <td>0.000021</td>\n",
       "      <td>-0.000021</td>\n",
       "      <td>-0.000020</td>\n",
       "      <td>-0.000095</td>\n",
       "    </tr>\n",
       "    <tr>\n",
       "      <th>4</th>\n",
       "      <td>0.002372</td>\n",
       "      <td>0.005221</td>\n",
       "      <td>-0.000255</td>\n",
       "      <td>0.000751</td>\n",
       "      <td>-0.002738</td>\n",
       "      <td>-0.002256</td>\n",
       "      <td>0.004855</td>\n",
       "      <td>0.000989</td>\n",
       "      <td>-0.001982</td>\n",
       "      <td>0.000961</td>\n",
       "      <td>...</td>\n",
       "      <td>0.002350</td>\n",
       "      <td>-0.000165</td>\n",
       "      <td>0.002310</td>\n",
       "      <td>0.003063</td>\n",
       "      <td>0.002281</td>\n",
       "      <td>-0.001878</td>\n",
       "      <td>-0.000638</td>\n",
       "      <td>0.000642</td>\n",
       "      <td>0.000623</td>\n",
       "      <td>0.002946</td>\n",
       "    </tr>\n",
       "    <tr>\n",
       "      <th>5</th>\n",
       "      <td>0.003010</td>\n",
       "      <td>0.006625</td>\n",
       "      <td>-0.000324</td>\n",
       "      <td>0.000954</td>\n",
       "      <td>-0.003474</td>\n",
       "      <td>-0.002863</td>\n",
       "      <td>0.006160</td>\n",
       "      <td>0.001255</td>\n",
       "      <td>-0.002516</td>\n",
       "      <td>0.001220</td>\n",
       "      <td>...</td>\n",
       "      <td>0.002983</td>\n",
       "      <td>-0.000209</td>\n",
       "      <td>0.002931</td>\n",
       "      <td>0.003887</td>\n",
       "      <td>0.002894</td>\n",
       "      <td>-0.002383</td>\n",
       "      <td>-0.000810</td>\n",
       "      <td>0.000814</td>\n",
       "      <td>0.000791</td>\n",
       "      <td>0.003738</td>\n",
       "    </tr>\n",
       "    <tr>\n",
       "      <th>6</th>\n",
       "      <td>0.002697</td>\n",
       "      <td>0.005938</td>\n",
       "      <td>-0.000291</td>\n",
       "      <td>0.000855</td>\n",
       "      <td>-0.003114</td>\n",
       "      <td>-0.002566</td>\n",
       "      <td>0.005521</td>\n",
       "      <td>0.001125</td>\n",
       "      <td>-0.002255</td>\n",
       "      <td>0.001093</td>\n",
       "      <td>...</td>\n",
       "      <td>0.002673</td>\n",
       "      <td>-0.000188</td>\n",
       "      <td>0.002627</td>\n",
       "      <td>0.003484</td>\n",
       "      <td>0.002594</td>\n",
       "      <td>-0.002135</td>\n",
       "      <td>-0.000726</td>\n",
       "      <td>0.000730</td>\n",
       "      <td>0.000709</td>\n",
       "      <td>0.003350</td>\n",
       "    </tr>\n",
       "  </tbody>\n",
       "</table>\n",
       "<p>7 rows × 476 columns</p>\n",
       "</div>"
      ]
     },
     "execution_count": 184,
     "metadata": {},
     "output_type": "execute_result"
    }
   ],
   "source": [
    "trclass0 = pimatr_nX_cl0.iloc[:, 0:7]\n",
    "trclass1 = pimatr_nX_cl1.iloc[:, 0:7]\n",
    "\n",
    "trmu0 = np.mean(trclass0)\n",
    "trmu1 = np.mean(trclass1)\n",
    "\n",
    "trE0 = np.cov(trclass0,rowvar=False)\n",
    "trE1 = np.cov(trclass1,rowvar=False)\n",
    "\n",
    "trS0= np.dot((len(pimatr_nX_cl0) - 1), trE0)\n",
    "trS1= np.dot((len(pimatr_nX_cl1) - 1), trE1)\n",
    "\n",
    "trSw= trS0+trS1\n",
    "\n",
    "trSwinv= np.linalg.inv(trSw)\n",
    "\n",
    "trv = np.dot(trSwinv,(trmu0-trmu1))\n",
    "\n",
    "Y0 = np.outer(trv,trclass0)\n",
    "Y1 = np.outer(trv, trclass1)\n",
    "\n",
    "print('Normalized Mean')\n",
    "pd.DataFrame(trmu0)\n",
    "pd.DataFrame(trE0)\n",
    "pd.DataFrame(trS0)\n",
    "pd.DataFrame(trSw)\n",
    "pd.DataFrame(trSwinv)\n",
    "pd.DataFrame(trv)\n",
    "pd.DataFrame(Y0)"
   ]
  },
  {
   "cell_type": "code",
   "execution_count": 181,
   "metadata": {},
   "outputs": [
    {
     "ename": "NameError",
     "evalue": "name 'Kens_kNN2' is not defined",
     "traceback": [
      "\u001b[1;31m---------------------------------------------------------------------------\u001b[0m",
      "\u001b[1;31mNameError\u001b[0m                                 Traceback (most recent call last)",
      "\u001b[1;32m<ipython-input-181-71e47e302aeb>\u001b[0m in \u001b[0;36m<module>\u001b[1;34m\u001b[0m\n\u001b[1;32m----> 1\u001b[1;33m \u001b[0mpX_data_kNN\u001b[0m \u001b[1;33m=\u001b[0m \u001b[0mKens_kNN2\u001b[0m\u001b[1;33m(\u001b[0m\u001b[0mpimatr_pX\u001b[0m\u001b[1;33m,\u001b[0m\u001b[0mpimate_pX\u001b[0m\u001b[1;33m,\u001b[0m \u001b[0mk\u001b[0m\u001b[1;33m=\u001b[0m\u001b[1;36m1\u001b[0m\u001b[1;33m)\u001b[0m\u001b[1;33m\u001b[0m\u001b[0m\n\u001b[0m\u001b[0;32m      2\u001b[0m \u001b[1;33m\u001b[0m\u001b[0m\n\u001b[0;32m      3\u001b[0m errorchk(df=pX_data_kNN, \n\u001b[0;32m      4\u001b[0m          \u001b[0mtruecol\u001b[0m\u001b[1;33m=\u001b[0m\u001b[0mpX_data_kNN\u001b[0m\u001b[1;33m[\u001b[0m\u001b[1;34m'diabetes'\u001b[0m\u001b[1;33m]\u001b[0m\u001b[1;33m,\u001b[0m\u001b[1;33m\u001b[0m\u001b[0m\n\u001b[0;32m      5\u001b[0m          \u001b[0mtestcol\u001b[0m\u001b[1;33m=\u001b[0m\u001b[0mpX_data_kNN\u001b[0m\u001b[1;33m[\u001b[0m\u001b[1;34m'kNN_class'\u001b[0m\u001b[1;33m]\u001b[0m\u001b[1;33m,\u001b[0m\u001b[1;33m\u001b[0m\u001b[0m\n",
      "\u001b[1;31mNameError\u001b[0m: name 'Kens_kNN2' is not defined"
     ],
     "output_type": "error"
    }
   ],
   "source": [
    "pX_data_kNN = Kens_kNN2(pimatr_pX,pimate_pX, k=1)\n",
    "\n",
    "errorchk(df=pX_data_kNN, \n",
    "         truecol=pX_data_kNN['diabetes'], \n",
    "         testcol=pX_data_kNN['kNN_class'], \n",
    "         title='kNN for pX', \n",
    "         x=pX_data_kNN.iloc[:,0:1],\n",
    "         y=pX_data_kNN.iloc[:,1:2])\n",
    "\n",
    "\n",
    "fig = plt.figure(figsize=(6,6))\n",
    "\n",
    "ax = Axes3D(fig) # Method 1\n",
    "# ax = fig.add_subplot(111, projection='3d') # Method 2\n",
    "\n",
    "x = pX_data_kNN['Principal Component 1']\n",
    "y = pX_data_kNN['Principal Component 2']\n",
    "z = pX_data_kNN['Principal Component 3']\n",
    "c= ['red' if i == 'Yes' else 'green' for i in pX_data_kNN['diabetes']]\n",
    "\n",
    "\n",
    "ax.scatter(x, y, z, c=c, marker='o')\n",
    "ax.set_xlabel('Principal Component 1')\n",
    "ax.set_ylabel('Principal Component 2')\n",
    "ax.set_zlabel('Principal Component 3')\n",
    "\n",
    "plt.show()\n",
    "\n",
    "nX_data_kNN = Kens_kNN2(pimatr_nX,pimate_nX, k=1)\n",
    "print(nX_data_kNN)\n",
    "errorchk(df=nX_data_kNN, \n",
    "         truecol=nX_data_kNN['diabetes'], \n",
    "         testcol=nX_data_kNN['kNN_class'], \n",
    "         title='kNN for nX', \n",
    "         x=nX_data_kNN.iloc[:,0:1],\n",
    "         y=nX_data_kNN.iloc[:,1:2])\n",
    "\n"
   ]
  },
  {
   "cell_type": "code",
   "execution_count": 182,
   "metadata": {},
   "outputs": [],
   "source": [
    "\n",
    "# OLD COPY\n",
    "def error_rates_old(truecol, testcol):\n",
    "    dict = {'Yes': 0,'No':1}\n",
    "    test = np.array(testcol.replace(dict))\n",
    "    np.reshape(test,(-1,1))\n",
    "    \n",
    "    truth = np.array(truecol.replace(dict))\n",
    "    truth.reshape(-1,1)\n",
    "    \n",
    "    #table = (truth == 1) & (test == 0)\n",
    "   # print(table)\n",
    "\n",
    "\n",
    "    #discriminator\n",
    "    conditions = [(truth == 0) & (test == 0),\n",
    "                  (truth == 0) & (test == 1),\n",
    "                  (truth == 1) & (test == 1),\n",
    "                  (truth == 1) & (test == 0)] \n",
    "    choices = ['TP', 'FP', 'TN','FN']\n",
    "    error_def = np.select(conditions,choices)\n",
    "    \n",
    "    #'True Positive Rate (TPR) or Sensitivity = TP / (TP + FN)'\n",
    "    #'True Negative Rate (TNR) or Specificity = TN / (FP + TN)'\n",
    "    #rate = error_def.groupby('error2', as_index=False).size()\n",
    "\n",
    "    #the pandas groupby function was used to get the total counts of the errors for each class\n",
    "    labels,count = np.unique(error_def, return_counts=True)\n",
    "    df_rates = pd.DataFrame(count,index=labels)\n",
    "    df_rates_t = df_rates.T\n",
    "    \n",
    "    print(df_rates_t)\n",
    "    df_rates_t['TPR'] = (df_rates_t['TP'])/(df_rates_t['TP'] + df_rates_t['FN'])\n",
    "    df_rates_t['FPR']  = (df_rates_t['FP'])/(df_rates_t['FP'] + df_rates_t['TN'])\n",
    "    df_rates_t['Acc']  =  (df_rates_t['TN'] + df_rates_t['TP'])/(df_rates_t['TN']+df_rates_t['TP']+df_rates_t['FN']+ df_rates_t['FP']) \n",
    "    \n",
    "    #print(df_rates_t)\n",
    "\n",
    "    return df_rates_t\n",
    "\n",
    "\n",
    "def Kens_kNN2(trX, X, k):\n",
    "    start = time.time()\n",
    "\n",
    "    kNNlist = []\n",
    "    def rowply(row):\n",
    "        Xrow = pd.DataFrame(row.iloc[:6])\n",
    "        trXnum = pd.DataFrame(trX.iloc[:, :6])\n",
    "               \n",
    "        # *** MAKE SURE TO ALIGN DATAFRAMES SO THEY BROADCAST PROPERLY!!!!! such as: Xrow.T ****\n",
    "        # 2 hours or more to figure that out!!\n",
    "\n",
    "        Xdist = pd.DataFrame(np.sqrt(np.sum(np.power(np.subtract(trXnum, Xrow.T),2),axis=1)))\n",
    "        Xdist.rename(columns= {0:'dist'}, inplace=True)\n",
    "        trdataX = pd.concat([Xdist,trX['diabetes']], axis=1)        \n",
    "        test1 = trdataX.nsmallest(n=k, columns='dist', keep= 'first')\n",
    "        \n",
    "        test2 = test1.groupby('diabetes').size().reset_index()\n",
    "\n",
    "        test2.rename(columns={0:'count'},inplace=True)\n",
    "\n",
    "        test3 = test2.nlargest(n=1, columns='count', keep='first')\n",
    "        \n",
    "        kNNlist.append(test3['diabetes'].values)\n",
    "             \n",
    "        \n",
    "        return\n",
    "    \n",
    "    X.apply(rowply, axis=1)\n",
    "   \n",
    "    kNNclasslistapp = pd.DataFrame(np.concatenate(kNNlist))\n",
    "    kNNclasslistapp.rename(columns={0:'kNN_class'},inplace=True)\n",
    "    Xout =  pd.concat([X,kNNclasslistapp], axis=1)\n",
    "    end = time.time()\n",
    "    print ('kNN time to complete:', end - start, 'seconds')\n",
    "    return Xout\n",
    "\n",
    "\n",
    "    \n",
    " "
   ]
  }
 ],
 "metadata": {
  "kernelspec": {
   "display_name": "Python 2",
   "language": "python",
   "name": "python2"
  },
  "language_info": {
   "codemirror_mode": {
    "name": "ipython",
    "version": 2
   },
   "file_extension": ".py",
   "mimetype": "text/x-python",
   "name": "python",
   "nbconvert_exporter": "python",
   "pygments_lexer": "ipython2",
   "version": "2.7.6"
  }
 },
 "nbformat": 4,
 "nbformat_minor": 0
}
